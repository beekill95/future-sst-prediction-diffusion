{
 "cells": [
  {
   "cell_type": "code",
   "execution_count": 1,
   "id": "fd5b5881",
   "metadata": {},
   "outputs": [
    {
     "name": "stdout",
     "output_type": "stream",
     "text": [
      "/N/slate/qmnguyen/projects/future-sst-prediction-diffusion\n"
     ]
    }
   ],
   "source": [
    "%cd ..\n",
    "%load_ext autoreload\n",
    "%autoreload 2"
   ]
  },
  {
   "cell_type": "code",
   "execution_count": 2,
   "id": "082a994b",
   "metadata": {},
   "outputs": [],
   "source": [
    "from __future__ import annotations\n",
    "\n",
    "import torch\n",
    "import torch.nn.functional as F\n",
    "from torch.utils.data import DataLoader\n",
    "\n",
    "from sst.dataset import NOAA_OI_SST, Difference_NOAA_OI_SST"
   ]
  },
  {
   "cell_type": "markdown",
   "id": "673579d4",
   "metadata": {},
   "source": [
    "# Future SST Difference Prediction using Average of Previous Diff As Baseline\n",
    "\n",
    "In this experiment,\n",
    "I will construct a baseline to compare with diffusion model\n",
    "by using the average of previous difference as the prediction for the future difference.\n",
    "\n",
    "In this,\n",
    "we just need the test dataset as we don't need to train anything."
   ]
  },
  {
   "cell_type": "code",
   "execution_count": 3,
   "id": "6ff260a2",
   "metadata": {},
   "outputs": [
    {
     "name": "stdout",
     "output_type": "stream",
     "text": [
      "Difference error: 0.4436\n",
      "Temperature error: 0.4436\n"
     ]
    }
   ],
   "source": [
    "test_ds = NOAA_OI_SST(train=False)\n",
    "test_diff_ds = Difference_NOAA_OI_SST(test_ds)\n",
    "\n",
    "# Use dataloader just to make these evaluations\n",
    "# as close as possible to what we used in diffusion models.\n",
    "test_dataloader = DataLoader(test_ds, batch_size=256, num_workers=4)\n",
    "test_diff_dataloader = DataLoader(test_diff_ds, batch_size=256, num_workers=4)\n",
    "\n",
    "total_diff_err = 0.\n",
    "total_temp_err = 0.\n",
    "for (X_diff, y_diff), (X, y) in zip(test_diff_dataloader, test_dataloader):\n",
    "    # Predict the future difference by using the previous differences.\n",
    "    y_pred_diff = torch.mean(X_diff, dim=1, keepdim=True)\n",
    "\n",
    "    # Compare the predicted difference with the true prediction.\n",
    "    total_diff_err += float(F.mse_loss(y_pred_diff, y_diff).item())\n",
    "\n",
    "    # Get back the original temperature.\n",
    "    y_pred = X[:, -1:] + y_pred_diff\n",
    "\n",
    "    # Compare the predicted temperature with the true temperature.\n",
    "    total_temp_err += float(F.mse_loss(y_pred, y))\n",
    "\n",
    "# Display the result.\n",
    "print(f'Difference error: {(total_diff_err / len(test_dataloader)):.4f}')\n",
    "print(f'Temperature error: {(total_temp_err / len(test_dataloader)):.4f}')"
   ]
  }
 ],
 "metadata": {
  "author": "Quan Nguyen",
  "jupytext": {
   "formats": "py:light,ipynb",
   "notebook_metadata_filter": "title,author,date"
  },
  "kernelspec": {
   "display_name": "Python 3 (ipykernel)",
   "language": "python",
   "name": "python3"
  },
  "language_info": {
   "codemirror_mode": {
    "name": "ipython",
    "version": 3
   },
   "file_extension": ".py",
   "mimetype": "text/x-python",
   "name": "python",
   "nbconvert_exporter": "python",
   "pygments_lexer": "ipython3",
   "version": "3.10.8"
  },
  "title": "Future SST Difference Prediction using Average of Previous Diff As Baseline Diffusion"
 },
 "nbformat": 4,
 "nbformat_minor": 5
}
