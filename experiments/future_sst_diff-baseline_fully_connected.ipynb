{
 "cells": [
  {
   "cell_type": "code",
   "execution_count": 1,
   "id": "a92b736b",
   "metadata": {},
   "outputs": [
    {
     "name": "stdout",
     "output_type": "stream",
     "text": [
      "/N/slate/qmnguyen/projects/future-sst-prediction-diffusion\n"
     ]
    }
   ],
   "source": [
    "%cd ..\n",
    "%load_ext autoreload\n",
    "%autoreload 2"
   ]
  },
  {
   "cell_type": "code",
   "execution_count": 2,
   "id": "6f27d380",
   "metadata": {},
   "outputs": [],
   "source": [
    "from __future__ import annotations\n",
    "\n",
    "import matplotlib.pyplot as plt\n",
    "import torch\n",
    "import torch.nn as nn\n",
    "import torch.nn.functional as F\n",
    "from torch.utils.data import DataLoader, random_split\n",
    "from torchvision.transforms import Compose, Lambda\n",
    "from tqdm.autonotebook import tqdm\n",
    "\n",
    "from sst.dataset import NOAA_OI_SST, Difference_NOAA_OI_SST"
   ]
  },
  {
   "cell_type": "markdown",
   "id": "6f2603df",
   "metadata": {},
   "source": [
    "# Baseline Future SST Difference Prediction using Fully Connected Networks\n",
    "\n",
    "In this notebook,\n",
    "we will establish a baseline for future SST difference prediction using fully connected networks.\n",
    "So no fancy diffusion models here.\n",
    "We just want to know whether a very simple network can do the job or not."
   ]
  },
  {
   "cell_type": "markdown",
   "id": "6823a54e",
   "metadata": {},
   "source": [
    "## Dataset\n",
    "\n",
    "Similar to that of [sst_unconditional_diffusion.py](./sst_unconditional_diffusion.py):"
   ]
  },
  {
   "cell_type": "code",
   "execution_count": 3,
   "id": "0918bba6",
   "metadata": {},
   "outputs": [],
   "source": [
    "train_ds = NOAA_OI_SST(train=True)\n",
    "train_ds = Difference_NOAA_OI_SST(train_ds)"
   ]
  },
  {
   "cell_type": "markdown",
   "id": "12f83634",
   "metadata": {},
   "source": [
    "We will want to split the data into training and validation data using 20% split:\n",
    "80% for training and 20% for validation."
   ]
  },
  {
   "cell_type": "code",
   "execution_count": 4,
   "id": "9bc23a4a",
   "metadata": {},
   "outputs": [
    {
     "name": "stdout",
     "output_type": "stream",
     "text": [
      "train_size=75129 len(train_ds)=75129\n",
      "val_size=18783 len(val_ds)=18783\n"
     ]
    }
   ],
   "source": [
    "train_size = int(len(train_ds) * 0.8)\n",
    "val_size = len(train_ds) - train_size\n",
    "train_ds, val_ds = random_split(train_ds, [train_size, val_size])\n",
    "print(f'{train_size=} {len(train_ds)=}')\n",
    "print(f'{val_size=} {len(val_ds)=}')"
   ]
  },
  {
   "cell_type": "markdown",
   "id": "9dd656ff",
   "metadata": {},
   "source": [
    "In addition, we will need test dataset for this experiment."
   ]
  },
  {
   "cell_type": "code",
   "execution_count": 5,
   "id": "b3f7c9e2",
   "metadata": {},
   "outputs": [
    {
     "name": "stdout",
     "output_type": "stream",
     "text": [
      "len(test_ds)=2892\n"
     ]
    }
   ],
   "source": [
    "test_ds = NOAA_OI_SST(train=False)\n",
    "test_diff_ds = Difference_NOAA_OI_SST(test_ds)\n",
    "print(f'{len(test_ds)=}')"
   ]
  },
  {
   "cell_type": "markdown",
   "id": "67709b8b",
   "metadata": {},
   "source": [
    "## Fully-Connected Network"
   ]
  },
  {
   "cell_type": "code",
   "execution_count": 6,
   "id": "ebd2e18f",
   "metadata": {
    "lines_to_next_cell": 1
   },
   "outputs": [],
   "source": [
    "class BaselineSSTDifferenceModel(nn.Module):\n",
    "    def __init__(self, nb_past_observations: int) -> None:\n",
    "        super().__init__()\n",
    "\n",
    "        self.flatten = nn.Flatten()\n",
    "        self.hidden = nn.Sequential(\n",
    "            nn.Linear(24*24*nb_past_observations, 1024), nn.LayerNorm(1024), nn.ReLU(), nn.Dropout(0.5),\n",
    "            nn.Linear(1024, 2048), nn.LayerNorm(2048), nn.ReLU(), nn.Dropout(0.5),\n",
    "        )\n",
    "        self.output = nn.Linear(2048, 24*24)\n",
    "        self.unflatten = nn.Unflatten(1, unflattened_size=(1, 24, 24))\n",
    "\n",
    "    def forward(self, x):\n",
    "        x = self.flatten(x)\n",
    "        x = self.hidden(x)\n",
    "        x = self.output(x)\n",
    "        x = self.unflatten(x)\n",
    "        return x"
   ]
  },
  {
   "cell_type": "markdown",
   "id": "7620b434",
   "metadata": {},
   "source": [
    "### Training"
   ]
  },
  {
   "cell_type": "code",
   "execution_count": 7,
   "id": "a90152e7",
   "metadata": {
    "scrolled": true,
    "tags": []
   },
   "outputs": [
    {
     "name": "stdout",
     "output_type": "stream",
     "text": [
      "cuda\n"
     ]
    },
    {
     "data": {
      "application/vnd.jupyter.widget-view+json": {
       "model_id": "8c0b04762cda45ac8267d1cda903a1ed",
       "version_major": 2,
       "version_minor": 0
      },
      "text/plain": [
       "Training epoch #0:   0%|          | 0/294 [00:00<?, ?it/s]"
      ]
     },
     "metadata": {},
     "output_type": "display_data"
    },
    {
     "name": "stdout",
     "output_type": "stream",
     "text": [
      "train_loss=0.0470 val_loss=0.0357\n"
     ]
    },
    {
     "data": {
      "application/vnd.jupyter.widget-view+json": {
       "model_id": "c08b741d31ad4178932b5a42655f6a79",
       "version_major": 2,
       "version_minor": 0
      },
      "text/plain": [
       "Training epoch #1:   0%|          | 0/294 [00:00<?, ?it/s]"
      ]
     },
     "metadata": {},
     "output_type": "display_data"
    },
    {
     "name": "stdout",
     "output_type": "stream",
     "text": [
      "train_loss=0.0359 val_loss=0.0354\n"
     ]
    },
    {
     "data": {
      "application/vnd.jupyter.widget-view+json": {
       "model_id": "c1baa1d0703242c29bf70d2a608e22db",
       "version_major": 2,
       "version_minor": 0
      },
      "text/plain": [
       "Training epoch #2:   0%|          | 0/294 [00:00<?, ?it/s]"
      ]
     },
     "metadata": {},
     "output_type": "display_data"
    },
    {
     "name": "stdout",
     "output_type": "stream",
     "text": [
      "train_loss=0.0351 val_loss=0.0352\n"
     ]
    },
    {
     "data": {
      "application/vnd.jupyter.widget-view+json": {
       "model_id": "e05d2ea734644ab1a69f7bc47059f39d",
       "version_major": 2,
       "version_minor": 0
      },
      "text/plain": [
       "Training epoch #3:   0%|          | 0/294 [00:00<?, ?it/s]"
      ]
     },
     "metadata": {},
     "output_type": "display_data"
    },
    {
     "name": "stdout",
     "output_type": "stream",
     "text": [
      "train_loss=0.0347 val_loss=0.0350\n"
     ]
    },
    {
     "data": {
      "application/vnd.jupyter.widget-view+json": {
       "model_id": "3a9311ee887246f7986d09d41959d618",
       "version_major": 2,
       "version_minor": 0
      },
      "text/plain": [
       "Training epoch #4:   0%|          | 0/294 [00:00<?, ?it/s]"
      ]
     },
     "metadata": {},
     "output_type": "display_data"
    },
    {
     "name": "stdout",
     "output_type": "stream",
     "text": [
      "train_loss=0.0345 val_loss=0.0350\n"
     ]
    },
    {
     "data": {
      "application/vnd.jupyter.widget-view+json": {
       "model_id": "1ea368e7b5a9465d833e0c7d71676ece",
       "version_major": 2,
       "version_minor": 0
      },
      "text/plain": [
       "Training epoch #5:   0%|          | 0/294 [00:00<?, ?it/s]"
      ]
     },
     "metadata": {},
     "output_type": "display_data"
    },
    {
     "name": "stdout",
     "output_type": "stream",
     "text": [
      "train_loss=0.0343 val_loss=0.0349\n"
     ]
    },
    {
     "data": {
      "application/vnd.jupyter.widget-view+json": {
       "model_id": "9fa12efee1ef49e587246d8c6b00c75a",
       "version_major": 2,
       "version_minor": 0
      },
      "text/plain": [
       "Training epoch #6:   0%|          | 0/294 [00:00<?, ?it/s]"
      ]
     },
     "metadata": {},
     "output_type": "display_data"
    },
    {
     "name": "stdout",
     "output_type": "stream",
     "text": [
      "train_loss=0.0342 val_loss=0.0349\n"
     ]
    },
    {
     "data": {
      "application/vnd.jupyter.widget-view+json": {
       "model_id": "184fa91adab94c7faa20cceff4818282",
       "version_major": 2,
       "version_minor": 0
      },
      "text/plain": [
       "Training epoch #7:   0%|          | 0/294 [00:00<?, ?it/s]"
      ]
     },
     "metadata": {},
     "output_type": "display_data"
    },
    {
     "name": "stdout",
     "output_type": "stream",
     "text": [
      "train_loss=0.0341 val_loss=0.0349\n"
     ]
    },
    {
     "data": {
      "application/vnd.jupyter.widget-view+json": {
       "model_id": "76b5c1beaaea492091a8a9d7951ad657",
       "version_major": 2,
       "version_minor": 0
      },
      "text/plain": [
       "Training epoch #8:   0%|          | 0/294 [00:00<?, ?it/s]"
      ]
     },
     "metadata": {},
     "output_type": "display_data"
    },
    {
     "name": "stdout",
     "output_type": "stream",
     "text": [
      "train_loss=0.0340 val_loss=0.0349\n"
     ]
    },
    {
     "data": {
      "application/vnd.jupyter.widget-view+json": {
       "model_id": "c31dd14adba5447ea31001bcebd354b1",
       "version_major": 2,
       "version_minor": 0
      },
      "text/plain": [
       "Training epoch #9:   0%|          | 0/294 [00:00<?, ?it/s]"
      ]
     },
     "metadata": {},
     "output_type": "display_data"
    },
    {
     "name": "stdout",
     "output_type": "stream",
     "text": [
      "train_loss=0.0339 val_loss=0.0348\n"
     ]
    },
    {
     "data": {
      "application/vnd.jupyter.widget-view+json": {
       "model_id": "31329981b7be45e3826b01166c908616",
       "version_major": 2,
       "version_minor": 0
      },
      "text/plain": [
       "Training epoch #10:   0%|          | 0/294 [00:00<?, ?it/s]"
      ]
     },
     "metadata": {},
     "output_type": "display_data"
    },
    {
     "name": "stdout",
     "output_type": "stream",
     "text": [
      "train_loss=0.0338 val_loss=0.0347\n"
     ]
    },
    {
     "data": {
      "application/vnd.jupyter.widget-view+json": {
       "model_id": "35cace29a79347d79f21cc26fd675cc3",
       "version_major": 2,
       "version_minor": 0
      },
      "text/plain": [
       "Training epoch #11:   0%|          | 0/294 [00:00<?, ?it/s]"
      ]
     },
     "metadata": {},
     "output_type": "display_data"
    },
    {
     "name": "stdout",
     "output_type": "stream",
     "text": [
      "train_loss=0.0337 val_loss=0.0347\n"
     ]
    },
    {
     "data": {
      "application/vnd.jupyter.widget-view+json": {
       "model_id": "c516d0907368451c96ddf1fd87c140f8",
       "version_major": 2,
       "version_minor": 0
      },
      "text/plain": [
       "Training epoch #12:   0%|          | 0/294 [00:00<?, ?it/s]"
      ]
     },
     "metadata": {},
     "output_type": "display_data"
    },
    {
     "name": "stdout",
     "output_type": "stream",
     "text": [
      "train_loss=0.0336 val_loss=0.0347\n"
     ]
    },
    {
     "data": {
      "application/vnd.jupyter.widget-view+json": {
       "model_id": "cf479a02fe854a48925c07a0d83b8380",
       "version_major": 2,
       "version_minor": 0
      },
      "text/plain": [
       "Training epoch #13:   0%|          | 0/294 [00:00<?, ?it/s]"
      ]
     },
     "metadata": {},
     "output_type": "display_data"
    },
    {
     "name": "stdout",
     "output_type": "stream",
     "text": [
      "train_loss=0.0336 val_loss=0.0348\n"
     ]
    },
    {
     "data": {
      "application/vnd.jupyter.widget-view+json": {
       "model_id": "2e675c8f43ab4a758291ebd4c4236662",
       "version_major": 2,
       "version_minor": 0
      },
      "text/plain": [
       "Training epoch #14:   0%|          | 0/294 [00:00<?, ?it/s]"
      ]
     },
     "metadata": {},
     "output_type": "display_data"
    },
    {
     "name": "stdout",
     "output_type": "stream",
     "text": [
      "train_loss=0.0334 val_loss=0.0348\n"
     ]
    },
    {
     "data": {
      "application/vnd.jupyter.widget-view+json": {
       "model_id": "1ff15d7dbb564591aacbd47133a2a2d0",
       "version_major": 2,
       "version_minor": 0
      },
      "text/plain": [
       "Training epoch #15:   0%|          | 0/294 [00:00<?, ?it/s]"
      ]
     },
     "metadata": {},
     "output_type": "display_data"
    },
    {
     "name": "stdout",
     "output_type": "stream",
     "text": [
      "train_loss=0.0334 val_loss=0.0347\n"
     ]
    },
    {
     "data": {
      "application/vnd.jupyter.widget-view+json": {
       "model_id": "1062913f0d154f0eaf371e048a62b40f",
       "version_major": 2,
       "version_minor": 0
      },
      "text/plain": [
       "Training epoch #16:   0%|          | 0/294 [00:00<?, ?it/s]"
      ]
     },
     "metadata": {},
     "output_type": "display_data"
    },
    {
     "name": "stdout",
     "output_type": "stream",
     "text": [
      "train_loss=0.0333 val_loss=0.0347\n"
     ]
    },
    {
     "data": {
      "application/vnd.jupyter.widget-view+json": {
       "model_id": "757c20c832d8444fb0b155193b3cb1fd",
       "version_major": 2,
       "version_minor": 0
      },
      "text/plain": [
       "Training epoch #17:   0%|          | 0/294 [00:00<?, ?it/s]"
      ]
     },
     "metadata": {},
     "output_type": "display_data"
    },
    {
     "name": "stdout",
     "output_type": "stream",
     "text": [
      "train_loss=0.0331 val_loss=0.0347\n"
     ]
    },
    {
     "data": {
      "application/vnd.jupyter.widget-view+json": {
       "model_id": "fae2d59cb3a44eb3bac384bc7f73c79e",
       "version_major": 2,
       "version_minor": 0
      },
      "text/plain": [
       "Training epoch #18:   0%|          | 0/294 [00:00<?, ?it/s]"
      ]
     },
     "metadata": {},
     "output_type": "display_data"
    },
    {
     "name": "stdout",
     "output_type": "stream",
     "text": [
      "train_loss=0.0331 val_loss=0.0347\n"
     ]
    },
    {
     "data": {
      "application/vnd.jupyter.widget-view+json": {
       "model_id": "f5f5f98b202d45c39f5b8d6d4080d76c",
       "version_major": 2,
       "version_minor": 0
      },
      "text/plain": [
       "Training epoch #19:   0%|          | 0/294 [00:00<?, ?it/s]"
      ]
     },
     "metadata": {},
     "output_type": "display_data"
    },
    {
     "name": "stdout",
     "output_type": "stream",
     "text": [
      "train_loss=0.0329 val_loss=0.0349\n"
     ]
    },
    {
     "data": {
      "application/vnd.jupyter.widget-view+json": {
       "model_id": "bfa1e930e31f4e26b2751b4bcc861fdd",
       "version_major": 2,
       "version_minor": 0
      },
      "text/plain": [
       "Training epoch #20:   0%|          | 0/294 [00:00<?, ?it/s]"
      ]
     },
     "metadata": {},
     "output_type": "display_data"
    },
    {
     "name": "stdout",
     "output_type": "stream",
     "text": [
      "train_loss=0.0328 val_loss=0.0347\n"
     ]
    },
    {
     "data": {
      "application/vnd.jupyter.widget-view+json": {
       "model_id": "62ababcae25b46138f57693960615b28",
       "version_major": 2,
       "version_minor": 0
      },
      "text/plain": [
       "Training epoch #21:   0%|          | 0/294 [00:00<?, ?it/s]"
      ]
     },
     "metadata": {},
     "output_type": "display_data"
    },
    {
     "name": "stdout",
     "output_type": "stream",
     "text": [
      "train_loss=0.0327 val_loss=0.0348\n"
     ]
    },
    {
     "data": {
      "application/vnd.jupyter.widget-view+json": {
       "model_id": "61a8068ba09f4fc88c6eb587fb1b1c15",
       "version_major": 2,
       "version_minor": 0
      },
      "text/plain": [
       "Training epoch #22:   0%|          | 0/294 [00:00<?, ?it/s]"
      ]
     },
     "metadata": {},
     "output_type": "display_data"
    },
    {
     "name": "stdout",
     "output_type": "stream",
     "text": [
      "train_loss=0.0326 val_loss=0.0348\n"
     ]
    },
    {
     "data": {
      "application/vnd.jupyter.widget-view+json": {
       "model_id": "5621cde3c26b4fb69922066ac854cebe",
       "version_major": 2,
       "version_minor": 0
      },
      "text/plain": [
       "Training epoch #23:   0%|          | 0/294 [00:00<?, ?it/s]"
      ]
     },
     "metadata": {},
     "output_type": "display_data"
    },
    {
     "name": "stdout",
     "output_type": "stream",
     "text": [
      "train_loss=0.0325 val_loss=0.0349\n"
     ]
    },
    {
     "data": {
      "application/vnd.jupyter.widget-view+json": {
       "model_id": "e2c7a599672243b482a539aea0b8f84a",
       "version_major": 2,
       "version_minor": 0
      },
      "text/plain": [
       "Training epoch #24:   0%|          | 0/294 [00:00<?, ?it/s]"
      ]
     },
     "metadata": {},
     "output_type": "display_data"
    },
    {
     "name": "stdout",
     "output_type": "stream",
     "text": [
      "train_loss=0.0324 val_loss=0.0349\n"
     ]
    },
    {
     "data": {
      "application/vnd.jupyter.widget-view+json": {
       "model_id": "efc42e521b6e4e489460445cf3a0f31b",
       "version_major": 2,
       "version_minor": 0
      },
      "text/plain": [
       "Training epoch #25:   0%|          | 0/294 [00:00<?, ?it/s]"
      ]
     },
     "metadata": {},
     "output_type": "display_data"
    },
    {
     "name": "stdout",
     "output_type": "stream",
     "text": [
      "train_loss=0.0323 val_loss=0.0349\n"
     ]
    },
    {
     "data": {
      "application/vnd.jupyter.widget-view+json": {
       "model_id": "4c32c1d3ffa34460b512dedc2e9062f8",
       "version_major": 2,
       "version_minor": 0
      },
      "text/plain": [
       "Training epoch #26:   0%|          | 0/294 [00:00<?, ?it/s]"
      ]
     },
     "metadata": {},
     "output_type": "display_data"
    },
    {
     "name": "stdout",
     "output_type": "stream",
     "text": [
      "train_loss=0.0321 val_loss=0.0351\n"
     ]
    },
    {
     "data": {
      "application/vnd.jupyter.widget-view+json": {
       "model_id": "b71c9acf34494c7a85916519cc7d58ba",
       "version_major": 2,
       "version_minor": 0
      },
      "text/plain": [
       "Training epoch #27:   0%|          | 0/294 [00:00<?, ?it/s]"
      ]
     },
     "metadata": {},
     "output_type": "display_data"
    },
    {
     "name": "stdout",
     "output_type": "stream",
     "text": [
      "train_loss=0.0320 val_loss=0.0351\n"
     ]
    },
    {
     "data": {
      "application/vnd.jupyter.widget-view+json": {
       "model_id": "670cc952ce9d4cf8af7ab670c0f37803",
       "version_major": 2,
       "version_minor": 0
      },
      "text/plain": [
       "Training epoch #28:   0%|          | 0/294 [00:00<?, ?it/s]"
      ]
     },
     "metadata": {},
     "output_type": "display_data"
    },
    {
     "name": "stdout",
     "output_type": "stream",
     "text": [
      "train_loss=0.0319 val_loss=0.0351\n"
     ]
    },
    {
     "data": {
      "application/vnd.jupyter.widget-view+json": {
       "model_id": "4d1280af92e145ea93b87eca662272a1",
       "version_major": 2,
       "version_minor": 0
      },
      "text/plain": [
       "Training epoch #29:   0%|          | 0/294 [00:00<?, ?it/s]"
      ]
     },
     "metadata": {},
     "output_type": "display_data"
    },
    {
     "name": "stdout",
     "output_type": "stream",
     "text": [
      "train_loss=0.0318 val_loss=0.0350\n"
     ]
    },
    {
     "data": {
      "application/vnd.jupyter.widget-view+json": {
       "model_id": "f98619f121a048f29198f7121bfc3db9",
       "version_major": 2,
       "version_minor": 0
      },
      "text/plain": [
       "Training epoch #30:   0%|          | 0/294 [00:00<?, ?it/s]"
      ]
     },
     "metadata": {},
     "output_type": "display_data"
    },
    {
     "name": "stdout",
     "output_type": "stream",
     "text": [
      "train_loss=0.0317 val_loss=0.0350\n"
     ]
    },
    {
     "data": {
      "application/vnd.jupyter.widget-view+json": {
       "model_id": "4e301282140c4f648089d6731b7b6f4f",
       "version_major": 2,
       "version_minor": 0
      },
      "text/plain": [
       "Training epoch #31:   0%|          | 0/294 [00:00<?, ?it/s]"
      ]
     },
     "metadata": {},
     "output_type": "display_data"
    },
    {
     "name": "stdout",
     "output_type": "stream",
     "text": [
      "train_loss=0.0315 val_loss=0.0351\n"
     ]
    },
    {
     "data": {
      "application/vnd.jupyter.widget-view+json": {
       "model_id": "4a0d3f3a0e524f4a92d4e56086c7c6e8",
       "version_major": 2,
       "version_minor": 0
      },
      "text/plain": [
       "Training epoch #32:   0%|          | 0/294 [00:00<?, ?it/s]"
      ]
     },
     "metadata": {},
     "output_type": "display_data"
    },
    {
     "name": "stdout",
     "output_type": "stream",
     "text": [
      "train_loss=0.0314 val_loss=0.0351\n"
     ]
    },
    {
     "data": {
      "application/vnd.jupyter.widget-view+json": {
       "model_id": "dd43baa068b746299678d450aba16add",
       "version_major": 2,
       "version_minor": 0
      },
      "text/plain": [
       "Training epoch #33:   0%|          | 0/294 [00:00<?, ?it/s]"
      ]
     },
     "metadata": {},
     "output_type": "display_data"
    },
    {
     "name": "stdout",
     "output_type": "stream",
     "text": [
      "train_loss=0.0313 val_loss=0.0352\n"
     ]
    },
    {
     "data": {
      "application/vnd.jupyter.widget-view+json": {
       "model_id": "64993eb72bde405d96350911c94ab454",
       "version_major": 2,
       "version_minor": 0
      },
      "text/plain": [
       "Training epoch #34:   0%|          | 0/294 [00:00<?, ?it/s]"
      ]
     },
     "metadata": {},
     "output_type": "display_data"
    },
    {
     "name": "stdout",
     "output_type": "stream",
     "text": [
      "train_loss=0.0312 val_loss=0.0352\n"
     ]
    },
    {
     "data": {
      "application/vnd.jupyter.widget-view+json": {
       "model_id": "88c18728e303400e9c7084d7d815eeb7",
       "version_major": 2,
       "version_minor": 0
      },
      "text/plain": [
       "Training epoch #35:   0%|          | 0/294 [00:00<?, ?it/s]"
      ]
     },
     "metadata": {},
     "output_type": "display_data"
    },
    {
     "name": "stdout",
     "output_type": "stream",
     "text": [
      "train_loss=0.0311 val_loss=0.0352\n"
     ]
    },
    {
     "data": {
      "application/vnd.jupyter.widget-view+json": {
       "model_id": "3d83fb6cec3c495e86c5d2031c76c4b3",
       "version_major": 2,
       "version_minor": 0
      },
      "text/plain": [
       "Training epoch #36:   0%|          | 0/294 [00:00<?, ?it/s]"
      ]
     },
     "metadata": {},
     "output_type": "display_data"
    },
    {
     "name": "stdout",
     "output_type": "stream",
     "text": [
      "train_loss=0.0310 val_loss=0.0352\n"
     ]
    },
    {
     "data": {
      "application/vnd.jupyter.widget-view+json": {
       "model_id": "1b052229f5524d57b90a810a18a77402",
       "version_major": 2,
       "version_minor": 0
      },
      "text/plain": [
       "Training epoch #37:   0%|          | 0/294 [00:00<?, ?it/s]"
      ]
     },
     "metadata": {},
     "output_type": "display_data"
    },
    {
     "name": "stdout",
     "output_type": "stream",
     "text": [
      "train_loss=0.0308 val_loss=0.0352\n"
     ]
    },
    {
     "data": {
      "application/vnd.jupyter.widget-view+json": {
       "model_id": "740cb5ff27d14b6eb488429ca3bbd3c4",
       "version_major": 2,
       "version_minor": 0
      },
      "text/plain": [
       "Training epoch #38:   0%|          | 0/294 [00:00<?, ?it/s]"
      ]
     },
     "metadata": {},
     "output_type": "display_data"
    },
    {
     "name": "stdout",
     "output_type": "stream",
     "text": [
      "train_loss=0.0308 val_loss=0.0352\n"
     ]
    },
    {
     "data": {
      "application/vnd.jupyter.widget-view+json": {
       "model_id": "b4d008292cf243d49a245851dbfa356d",
       "version_major": 2,
       "version_minor": 0
      },
      "text/plain": [
       "Training epoch #39:   0%|          | 0/294 [00:00<?, ?it/s]"
      ]
     },
     "metadata": {},
     "output_type": "display_data"
    },
    {
     "name": "stdout",
     "output_type": "stream",
     "text": [
      "train_loss=0.0307 val_loss=0.0353\n"
     ]
    },
    {
     "data": {
      "application/vnd.jupyter.widget-view+json": {
       "model_id": "59f5b9134bdf413aa2dceb31681f2777",
       "version_major": 2,
       "version_minor": 0
      },
      "text/plain": [
       "Training epoch #40:   0%|          | 0/294 [00:00<?, ?it/s]"
      ]
     },
     "metadata": {},
     "output_type": "display_data"
    },
    {
     "name": "stdout",
     "output_type": "stream",
     "text": [
      "train_loss=0.0305 val_loss=0.0354\n"
     ]
    },
    {
     "data": {
      "application/vnd.jupyter.widget-view+json": {
       "model_id": "d3c04054f4a8459c8e4b55af3c6f25fd",
       "version_major": 2,
       "version_minor": 0
      },
      "text/plain": [
       "Training epoch #41:   0%|          | 0/294 [00:00<?, ?it/s]"
      ]
     },
     "metadata": {},
     "output_type": "display_data"
    },
    {
     "name": "stdout",
     "output_type": "stream",
     "text": [
      "train_loss=0.0304 val_loss=0.0353\n"
     ]
    },
    {
     "data": {
      "application/vnd.jupyter.widget-view+json": {
       "model_id": "7959817b8cc842269b69e2f00ffa12f6",
       "version_major": 2,
       "version_minor": 0
      },
      "text/plain": [
       "Training epoch #42:   0%|          | 0/294 [00:00<?, ?it/s]"
      ]
     },
     "metadata": {},
     "output_type": "display_data"
    },
    {
     "name": "stdout",
     "output_type": "stream",
     "text": [
      "train_loss=0.0303 val_loss=0.0353\n"
     ]
    },
    {
     "data": {
      "application/vnd.jupyter.widget-view+json": {
       "model_id": "d6b3be5c971f4b9099936f24e23edd15",
       "version_major": 2,
       "version_minor": 0
      },
      "text/plain": [
       "Training epoch #43:   0%|          | 0/294 [00:00<?, ?it/s]"
      ]
     },
     "metadata": {},
     "output_type": "display_data"
    },
    {
     "name": "stdout",
     "output_type": "stream",
     "text": [
      "train_loss=0.0303 val_loss=0.0354\n"
     ]
    },
    {
     "data": {
      "application/vnd.jupyter.widget-view+json": {
       "model_id": "36161520296f4a9d9f2cfa5abef3350f",
       "version_major": 2,
       "version_minor": 0
      },
      "text/plain": [
       "Training epoch #44:   0%|          | 0/294 [00:00<?, ?it/s]"
      ]
     },
     "metadata": {},
     "output_type": "display_data"
    },
    {
     "name": "stdout",
     "output_type": "stream",
     "text": [
      "train_loss=0.0302 val_loss=0.0355\n"
     ]
    },
    {
     "data": {
      "application/vnd.jupyter.widget-view+json": {
       "model_id": "3a0cf38274c84cb2939feb3f5405d510",
       "version_major": 2,
       "version_minor": 0
      },
      "text/plain": [
       "Training epoch #45:   0%|          | 0/294 [00:00<?, ?it/s]"
      ]
     },
     "metadata": {},
     "output_type": "display_data"
    },
    {
     "name": "stdout",
     "output_type": "stream",
     "text": [
      "train_loss=0.0301 val_loss=0.0354\n"
     ]
    },
    {
     "data": {
      "application/vnd.jupyter.widget-view+json": {
       "model_id": "9cc5c64a24a04cfdb18ec4c56f6a984b",
       "version_major": 2,
       "version_minor": 0
      },
      "text/plain": [
       "Training epoch #46:   0%|          | 0/294 [00:00<?, ?it/s]"
      ]
     },
     "metadata": {},
     "output_type": "display_data"
    },
    {
     "name": "stdout",
     "output_type": "stream",
     "text": [
      "train_loss=0.0300 val_loss=0.0356\n"
     ]
    },
    {
     "data": {
      "application/vnd.jupyter.widget-view+json": {
       "model_id": "9f943478ed494ed9b23862d89e7fdb02",
       "version_major": 2,
       "version_minor": 0
      },
      "text/plain": [
       "Training epoch #47:   0%|          | 0/294 [00:00<?, ?it/s]"
      ]
     },
     "metadata": {},
     "output_type": "display_data"
    },
    {
     "name": "stdout",
     "output_type": "stream",
     "text": [
      "train_loss=0.0299 val_loss=0.0354\n"
     ]
    },
    {
     "data": {
      "application/vnd.jupyter.widget-view+json": {
       "model_id": "aa7a505233a0459d982bdb0599c6eea1",
       "version_major": 2,
       "version_minor": 0
      },
      "text/plain": [
       "Training epoch #48:   0%|          | 0/294 [00:00<?, ?it/s]"
      ]
     },
     "metadata": {},
     "output_type": "display_data"
    },
    {
     "name": "stdout",
     "output_type": "stream",
     "text": [
      "train_loss=0.0298 val_loss=0.0355\n"
     ]
    },
    {
     "data": {
      "application/vnd.jupyter.widget-view+json": {
       "model_id": "0291c027efca4a978f8a791c884edbfb",
       "version_major": 2,
       "version_minor": 0
      },
      "text/plain": [
       "Training epoch #49:   0%|          | 0/294 [00:00<?, ?it/s]"
      ]
     },
     "metadata": {},
     "output_type": "display_data"
    },
    {
     "name": "stdout",
     "output_type": "stream",
     "text": [
      "train_loss=0.0297 val_loss=0.0355\n"
     ]
    },
    {
     "data": {
      "application/vnd.jupyter.widget-view+json": {
       "model_id": "c2d343c8002447d9a13ac422ff373725",
       "version_major": 2,
       "version_minor": 0
      },
      "text/plain": [
       "Training epoch #50:   0%|          | 0/294 [00:00<?, ?it/s]"
      ]
     },
     "metadata": {},
     "output_type": "display_data"
    },
    {
     "name": "stdout",
     "output_type": "stream",
     "text": [
      "train_loss=0.0297 val_loss=0.0356\n"
     ]
    },
    {
     "data": {
      "application/vnd.jupyter.widget-view+json": {
       "model_id": "66b9b8c3465a49d3999285e813d62c88",
       "version_major": 2,
       "version_minor": 0
      },
      "text/plain": [
       "Training epoch #51:   0%|          | 0/294 [00:00<?, ?it/s]"
      ]
     },
     "metadata": {},
     "output_type": "display_data"
    },
    {
     "name": "stdout",
     "output_type": "stream",
     "text": [
      "train_loss=0.0296 val_loss=0.0357\n"
     ]
    },
    {
     "data": {
      "application/vnd.jupyter.widget-view+json": {
       "model_id": "fe0265bef9a044fdb6e28dc31dbc7e63",
       "version_major": 2,
       "version_minor": 0
      },
      "text/plain": [
       "Training epoch #52:   0%|          | 0/294 [00:00<?, ?it/s]"
      ]
     },
     "metadata": {},
     "output_type": "display_data"
    },
    {
     "name": "stdout",
     "output_type": "stream",
     "text": [
      "train_loss=0.0295 val_loss=0.0355\n"
     ]
    },
    {
     "data": {
      "application/vnd.jupyter.widget-view+json": {
       "model_id": "3fd0c87b6bfe474d8acd4eb665e52c10",
       "version_major": 2,
       "version_minor": 0
      },
      "text/plain": [
       "Training epoch #53:   0%|          | 0/294 [00:00<?, ?it/s]"
      ]
     },
     "metadata": {},
     "output_type": "display_data"
    },
    {
     "name": "stdout",
     "output_type": "stream",
     "text": [
      "train_loss=0.0294 val_loss=0.0355\n"
     ]
    },
    {
     "data": {
      "application/vnd.jupyter.widget-view+json": {
       "model_id": "10bd5d0bc5364a709d725430126a83d5",
       "version_major": 2,
       "version_minor": 0
      },
      "text/plain": [
       "Training epoch #54:   0%|          | 0/294 [00:00<?, ?it/s]"
      ]
     },
     "metadata": {},
     "output_type": "display_data"
    },
    {
     "name": "stdout",
     "output_type": "stream",
     "text": [
      "train_loss=0.0293 val_loss=0.0357\n"
     ]
    },
    {
     "data": {
      "application/vnd.jupyter.widget-view+json": {
       "model_id": "f9cc29feb2ec452eb726c3a20c51b08c",
       "version_major": 2,
       "version_minor": 0
      },
      "text/plain": [
       "Training epoch #55:   0%|          | 0/294 [00:00<?, ?it/s]"
      ]
     },
     "metadata": {},
     "output_type": "display_data"
    },
    {
     "name": "stdout",
     "output_type": "stream",
     "text": [
      "train_loss=0.0293 val_loss=0.0356\n"
     ]
    },
    {
     "data": {
      "application/vnd.jupyter.widget-view+json": {
       "model_id": "9b52212111d8494fbd7cd26f7217de1a",
       "version_major": 2,
       "version_minor": 0
      },
      "text/plain": [
       "Training epoch #56:   0%|          | 0/294 [00:00<?, ?it/s]"
      ]
     },
     "metadata": {},
     "output_type": "display_data"
    },
    {
     "name": "stdout",
     "output_type": "stream",
     "text": [
      "train_loss=0.0292 val_loss=0.0357\n"
     ]
    },
    {
     "data": {
      "application/vnd.jupyter.widget-view+json": {
       "model_id": "321ef5a0e1294262aed7d0096550d9e4",
       "version_major": 2,
       "version_minor": 0
      },
      "text/plain": [
       "Training epoch #57:   0%|          | 0/294 [00:00<?, ?it/s]"
      ]
     },
     "metadata": {},
     "output_type": "display_data"
    },
    {
     "name": "stdout",
     "output_type": "stream",
     "text": [
      "train_loss=0.0291 val_loss=0.0357\n"
     ]
    },
    {
     "data": {
      "application/vnd.jupyter.widget-view+json": {
       "model_id": "cbd5d792b48d45cdb9247eacc61cbec6",
       "version_major": 2,
       "version_minor": 0
      },
      "text/plain": [
       "Training epoch #58:   0%|          | 0/294 [00:00<?, ?it/s]"
      ]
     },
     "metadata": {},
     "output_type": "display_data"
    },
    {
     "name": "stdout",
     "output_type": "stream",
     "text": [
      "train_loss=0.0290 val_loss=0.0357\n"
     ]
    },
    {
     "data": {
      "application/vnd.jupyter.widget-view+json": {
       "model_id": "6e9e33069dc04f29bfd9b133bfe31a81",
       "version_major": 2,
       "version_minor": 0
      },
      "text/plain": [
       "Training epoch #59:   0%|          | 0/294 [00:00<?, ?it/s]"
      ]
     },
     "metadata": {},
     "output_type": "display_data"
    },
    {
     "name": "stdout",
     "output_type": "stream",
     "text": [
      "train_loss=0.0290 val_loss=0.0357\n"
     ]
    },
    {
     "data": {
      "application/vnd.jupyter.widget-view+json": {
       "model_id": "ae905a5840a14730986b51ceb135b453",
       "version_major": 2,
       "version_minor": 0
      },
      "text/plain": [
       "Training epoch #60:   0%|          | 0/294 [00:00<?, ?it/s]"
      ]
     },
     "metadata": {},
     "output_type": "display_data"
    },
    {
     "name": "stdout",
     "output_type": "stream",
     "text": [
      "train_loss=0.0289 val_loss=0.0357\n"
     ]
    },
    {
     "data": {
      "application/vnd.jupyter.widget-view+json": {
       "model_id": "ca9cf8abceee4a0fa0bb069bd6f4d044",
       "version_major": 2,
       "version_minor": 0
      },
      "text/plain": [
       "Training epoch #61:   0%|          | 0/294 [00:00<?, ?it/s]"
      ]
     },
     "metadata": {},
     "output_type": "display_data"
    },
    {
     "name": "stdout",
     "output_type": "stream",
     "text": [
      "train_loss=0.0288 val_loss=0.0357\n"
     ]
    },
    {
     "data": {
      "application/vnd.jupyter.widget-view+json": {
       "model_id": "cf7cb3a968d340ad918a28bf5b41072b",
       "version_major": 2,
       "version_minor": 0
      },
      "text/plain": [
       "Training epoch #62:   0%|          | 0/294 [00:00<?, ?it/s]"
      ]
     },
     "metadata": {},
     "output_type": "display_data"
    },
    {
     "name": "stdout",
     "output_type": "stream",
     "text": [
      "train_loss=0.0288 val_loss=0.0356\n"
     ]
    },
    {
     "data": {
      "application/vnd.jupyter.widget-view+json": {
       "model_id": "98522b70b1b84b1a98b5001d20ce42ef",
       "version_major": 2,
       "version_minor": 0
      },
      "text/plain": [
       "Training epoch #63:   0%|          | 0/294 [00:00<?, ?it/s]"
      ]
     },
     "metadata": {},
     "output_type": "display_data"
    },
    {
     "name": "stdout",
     "output_type": "stream",
     "text": [
      "train_loss=0.0287 val_loss=0.0358\n"
     ]
    },
    {
     "data": {
      "application/vnd.jupyter.widget-view+json": {
       "model_id": "76936a1df5d5420da580bbaf5f53835e",
       "version_major": 2,
       "version_minor": 0
      },
      "text/plain": [
       "Training epoch #64:   0%|          | 0/294 [00:00<?, ?it/s]"
      ]
     },
     "metadata": {},
     "output_type": "display_data"
    },
    {
     "name": "stdout",
     "output_type": "stream",
     "text": [
      "train_loss=0.0286 val_loss=0.0358\n"
     ]
    },
    {
     "data": {
      "application/vnd.jupyter.widget-view+json": {
       "model_id": "f35ce7be470a467c93fe1fe23f077000",
       "version_major": 2,
       "version_minor": 0
      },
      "text/plain": [
       "Training epoch #65:   0%|          | 0/294 [00:00<?, ?it/s]"
      ]
     },
     "metadata": {},
     "output_type": "display_data"
    },
    {
     "name": "stdout",
     "output_type": "stream",
     "text": [
      "train_loss=0.0286 val_loss=0.0357\n"
     ]
    },
    {
     "data": {
      "application/vnd.jupyter.widget-view+json": {
       "model_id": "11af91ceaea1488ca20707bf5158a2eb",
       "version_major": 2,
       "version_minor": 0
      },
      "text/plain": [
       "Training epoch #66:   0%|          | 0/294 [00:00<?, ?it/s]"
      ]
     },
     "metadata": {},
     "output_type": "display_data"
    },
    {
     "name": "stdout",
     "output_type": "stream",
     "text": [
      "train_loss=0.0285 val_loss=0.0358\n"
     ]
    },
    {
     "data": {
      "application/vnd.jupyter.widget-view+json": {
       "model_id": "749b81130f984ce4a766fc45e7dbc126",
       "version_major": 2,
       "version_minor": 0
      },
      "text/plain": [
       "Training epoch #67:   0%|          | 0/294 [00:00<?, ?it/s]"
      ]
     },
     "metadata": {},
     "output_type": "display_data"
    },
    {
     "name": "stdout",
     "output_type": "stream",
     "text": [
      "train_loss=0.0285 val_loss=0.0358\n"
     ]
    },
    {
     "data": {
      "application/vnd.jupyter.widget-view+json": {
       "model_id": "4d9ea73156bf4d8eb4da14c1b336f023",
       "version_major": 2,
       "version_minor": 0
      },
      "text/plain": [
       "Training epoch #68:   0%|          | 0/294 [00:00<?, ?it/s]"
      ]
     },
     "metadata": {},
     "output_type": "display_data"
    },
    {
     "name": "stdout",
     "output_type": "stream",
     "text": [
      "train_loss=0.0284 val_loss=0.0359\n"
     ]
    },
    {
     "data": {
      "application/vnd.jupyter.widget-view+json": {
       "model_id": "e9a426a226724b99ace6fed6ccc4d5ad",
       "version_major": 2,
       "version_minor": 0
      },
      "text/plain": [
       "Training epoch #69:   0%|          | 0/294 [00:00<?, ?it/s]"
      ]
     },
     "metadata": {},
     "output_type": "display_data"
    },
    {
     "name": "stdout",
     "output_type": "stream",
     "text": [
      "train_loss=0.0284 val_loss=0.0358\n"
     ]
    },
    {
     "data": {
      "application/vnd.jupyter.widget-view+json": {
       "model_id": "1db7169d5253489592ef6524848a6a88",
       "version_major": 2,
       "version_minor": 0
      },
      "text/plain": [
       "Training epoch #70:   0%|          | 0/294 [00:00<?, ?it/s]"
      ]
     },
     "metadata": {},
     "output_type": "display_data"
    },
    {
     "name": "stdout",
     "output_type": "stream",
     "text": [
      "train_loss=0.0283 val_loss=0.0358\n"
     ]
    },
    {
     "data": {
      "application/vnd.jupyter.widget-view+json": {
       "model_id": "b94cb1494ddb4b82bc49e5293f73d58a",
       "version_major": 2,
       "version_minor": 0
      },
      "text/plain": [
       "Training epoch #71:   0%|          | 0/294 [00:00<?, ?it/s]"
      ]
     },
     "metadata": {},
     "output_type": "display_data"
    },
    {
     "name": "stdout",
     "output_type": "stream",
     "text": [
      "train_loss=0.0282 val_loss=0.0358\n"
     ]
    },
    {
     "data": {
      "application/vnd.jupyter.widget-view+json": {
       "model_id": "204f06477e3743e9a544d304743dfd6d",
       "version_major": 2,
       "version_minor": 0
      },
      "text/plain": [
       "Training epoch #72:   0%|          | 0/294 [00:00<?, ?it/s]"
      ]
     },
     "metadata": {},
     "output_type": "display_data"
    },
    {
     "name": "stdout",
     "output_type": "stream",
     "text": [
      "train_loss=0.0282 val_loss=0.0357\n"
     ]
    },
    {
     "data": {
      "application/vnd.jupyter.widget-view+json": {
       "model_id": "fe4294876058489a85dda7c5497da09c",
       "version_major": 2,
       "version_minor": 0
      },
      "text/plain": [
       "Training epoch #73:   0%|          | 0/294 [00:00<?, ?it/s]"
      ]
     },
     "metadata": {},
     "output_type": "display_data"
    },
    {
     "name": "stdout",
     "output_type": "stream",
     "text": [
      "train_loss=0.0281 val_loss=0.0358\n"
     ]
    },
    {
     "data": {
      "application/vnd.jupyter.widget-view+json": {
       "model_id": "499d6895382d4850b59848fb2a146dc4",
       "version_major": 2,
       "version_minor": 0
      },
      "text/plain": [
       "Training epoch #74:   0%|          | 0/294 [00:00<?, ?it/s]"
      ]
     },
     "metadata": {},
     "output_type": "display_data"
    },
    {
     "name": "stdout",
     "output_type": "stream",
     "text": [
      "train_loss=0.0280 val_loss=0.0357\n"
     ]
    },
    {
     "data": {
      "application/vnd.jupyter.widget-view+json": {
       "model_id": "ed0eba3c81c149d0b237c5c0f659c31b",
       "version_major": 2,
       "version_minor": 0
      },
      "text/plain": [
       "Training epoch #75:   0%|          | 0/294 [00:00<?, ?it/s]"
      ]
     },
     "metadata": {},
     "output_type": "display_data"
    },
    {
     "name": "stdout",
     "output_type": "stream",
     "text": [
      "train_loss=0.0280 val_loss=0.0358\n"
     ]
    },
    {
     "data": {
      "application/vnd.jupyter.widget-view+json": {
       "model_id": "49307b757d3b4d62817cbb55d3a97433",
       "version_major": 2,
       "version_minor": 0
      },
      "text/plain": [
       "Training epoch #76:   0%|          | 0/294 [00:00<?, ?it/s]"
      ]
     },
     "metadata": {},
     "output_type": "display_data"
    },
    {
     "name": "stdout",
     "output_type": "stream",
     "text": [
      "train_loss=0.0279 val_loss=0.0357\n"
     ]
    },
    {
     "data": {
      "application/vnd.jupyter.widget-view+json": {
       "model_id": "b846389fd9c94cd4a0a0b6fde4c70698",
       "version_major": 2,
       "version_minor": 0
      },
      "text/plain": [
       "Training epoch #77:   0%|          | 0/294 [00:00<?, ?it/s]"
      ]
     },
     "metadata": {},
     "output_type": "display_data"
    },
    {
     "name": "stdout",
     "output_type": "stream",
     "text": [
      "train_loss=0.0279 val_loss=0.0359\n"
     ]
    },
    {
     "data": {
      "application/vnd.jupyter.widget-view+json": {
       "model_id": "d816c3e069cb4a4f8122f2d76f522f9d",
       "version_major": 2,
       "version_minor": 0
      },
      "text/plain": [
       "Training epoch #78:   0%|          | 0/294 [00:00<?, ?it/s]"
      ]
     },
     "metadata": {},
     "output_type": "display_data"
    },
    {
     "name": "stdout",
     "output_type": "stream",
     "text": [
      "train_loss=0.0278 val_loss=0.0358\n"
     ]
    },
    {
     "data": {
      "application/vnd.jupyter.widget-view+json": {
       "model_id": "76c55fb8501e4b0d87dcddeb170d3cfa",
       "version_major": 2,
       "version_minor": 0
      },
      "text/plain": [
       "Training epoch #79:   0%|          | 0/294 [00:00<?, ?it/s]"
      ]
     },
     "metadata": {},
     "output_type": "display_data"
    },
    {
     "name": "stdout",
     "output_type": "stream",
     "text": [
      "train_loss=0.0278 val_loss=0.0358\n"
     ]
    },
    {
     "data": {
      "application/vnd.jupyter.widget-view+json": {
       "model_id": "b4bb3d1250b846368d48fdc3cd0f4e53",
       "version_major": 2,
       "version_minor": 0
      },
      "text/plain": [
       "Training epoch #80:   0%|          | 0/294 [00:00<?, ?it/s]"
      ]
     },
     "metadata": {},
     "output_type": "display_data"
    },
    {
     "name": "stdout",
     "output_type": "stream",
     "text": [
      "train_loss=0.0278 val_loss=0.0359\n"
     ]
    },
    {
     "data": {
      "application/vnd.jupyter.widget-view+json": {
       "model_id": "d27e307b4ac1422fba6882fed6858016",
       "version_major": 2,
       "version_minor": 0
      },
      "text/plain": [
       "Training epoch #81:   0%|          | 0/294 [00:00<?, ?it/s]"
      ]
     },
     "metadata": {},
     "output_type": "display_data"
    },
    {
     "name": "stdout",
     "output_type": "stream",
     "text": [
      "train_loss=0.0277 val_loss=0.0359\n"
     ]
    },
    {
     "data": {
      "application/vnd.jupyter.widget-view+json": {
       "model_id": "dcf50f71bbb248c6bd14027d4f969682",
       "version_major": 2,
       "version_minor": 0
      },
      "text/plain": [
       "Training epoch #82:   0%|          | 0/294 [00:00<?, ?it/s]"
      ]
     },
     "metadata": {},
     "output_type": "display_data"
    },
    {
     "name": "stdout",
     "output_type": "stream",
     "text": [
      "train_loss=0.0277 val_loss=0.0358\n"
     ]
    },
    {
     "data": {
      "application/vnd.jupyter.widget-view+json": {
       "model_id": "44fe55bad5bb44f6992b4ab4246dc994",
       "version_major": 2,
       "version_minor": 0
      },
      "text/plain": [
       "Training epoch #83:   0%|          | 0/294 [00:00<?, ?it/s]"
      ]
     },
     "metadata": {},
     "output_type": "display_data"
    },
    {
     "name": "stdout",
     "output_type": "stream",
     "text": [
      "train_loss=0.0276 val_loss=0.0360\n"
     ]
    },
    {
     "data": {
      "application/vnd.jupyter.widget-view+json": {
       "model_id": "384098d21e8f4c14a266ceee8cf51423",
       "version_major": 2,
       "version_minor": 0
      },
      "text/plain": [
       "Training epoch #84:   0%|          | 0/294 [00:00<?, ?it/s]"
      ]
     },
     "metadata": {},
     "output_type": "display_data"
    },
    {
     "name": "stdout",
     "output_type": "stream",
     "text": [
      "train_loss=0.0276 val_loss=0.0358\n"
     ]
    },
    {
     "data": {
      "application/vnd.jupyter.widget-view+json": {
       "model_id": "a9c2608e62ac4b348ad5444e04cf8d82",
       "version_major": 2,
       "version_minor": 0
      },
      "text/plain": [
       "Training epoch #85:   0%|          | 0/294 [00:00<?, ?it/s]"
      ]
     },
     "metadata": {},
     "output_type": "display_data"
    },
    {
     "name": "stdout",
     "output_type": "stream",
     "text": [
      "train_loss=0.0275 val_loss=0.0360\n"
     ]
    },
    {
     "data": {
      "application/vnd.jupyter.widget-view+json": {
       "model_id": "3d0475eb538f4716935c0fa611fed196",
       "version_major": 2,
       "version_minor": 0
      },
      "text/plain": [
       "Training epoch #86:   0%|          | 0/294 [00:00<?, ?it/s]"
      ]
     },
     "metadata": {},
     "output_type": "display_data"
    },
    {
     "name": "stdout",
     "output_type": "stream",
     "text": [
      "train_loss=0.0275 val_loss=0.0359\n"
     ]
    },
    {
     "data": {
      "application/vnd.jupyter.widget-view+json": {
       "model_id": "1622e65762344abdbfb021ed5689fe15",
       "version_major": 2,
       "version_minor": 0
      },
      "text/plain": [
       "Training epoch #87:   0%|          | 0/294 [00:00<?, ?it/s]"
      ]
     },
     "metadata": {},
     "output_type": "display_data"
    },
    {
     "name": "stdout",
     "output_type": "stream",
     "text": [
      "train_loss=0.0275 val_loss=0.0360\n"
     ]
    },
    {
     "data": {
      "application/vnd.jupyter.widget-view+json": {
       "model_id": "121dfaffce684eedbfa9e6ea2e69a41e",
       "version_major": 2,
       "version_minor": 0
      },
      "text/plain": [
       "Training epoch #88:   0%|          | 0/294 [00:00<?, ?it/s]"
      ]
     },
     "metadata": {},
     "output_type": "display_data"
    },
    {
     "name": "stdout",
     "output_type": "stream",
     "text": [
      "train_loss=0.0274 val_loss=0.0359\n"
     ]
    },
    {
     "data": {
      "application/vnd.jupyter.widget-view+json": {
       "model_id": "f7632a24f973408fa7021b976e616b67",
       "version_major": 2,
       "version_minor": 0
      },
      "text/plain": [
       "Training epoch #89:   0%|          | 0/294 [00:00<?, ?it/s]"
      ]
     },
     "metadata": {},
     "output_type": "display_data"
    },
    {
     "name": "stdout",
     "output_type": "stream",
     "text": [
      "train_loss=0.0274 val_loss=0.0360\n"
     ]
    },
    {
     "data": {
      "application/vnd.jupyter.widget-view+json": {
       "model_id": "792306d19b714b1cae8ac80be1acc2c0",
       "version_major": 2,
       "version_minor": 0
      },
      "text/plain": [
       "Training epoch #90:   0%|          | 0/294 [00:00<?, ?it/s]"
      ]
     },
     "metadata": {},
     "output_type": "display_data"
    },
    {
     "name": "stdout",
     "output_type": "stream",
     "text": [
      "train_loss=0.0273 val_loss=0.0360\n"
     ]
    },
    {
     "data": {
      "application/vnd.jupyter.widget-view+json": {
       "model_id": "488195e3a9f14971b227e4a3685ca3e3",
       "version_major": 2,
       "version_minor": 0
      },
      "text/plain": [
       "Training epoch #91:   0%|          | 0/294 [00:00<?, ?it/s]"
      ]
     },
     "metadata": {},
     "output_type": "display_data"
    },
    {
     "name": "stdout",
     "output_type": "stream",
     "text": [
      "train_loss=0.0273 val_loss=0.0359\n"
     ]
    },
    {
     "data": {
      "application/vnd.jupyter.widget-view+json": {
       "model_id": "95e6f6bda04547a5b19ccd895700d741",
       "version_major": 2,
       "version_minor": 0
      },
      "text/plain": [
       "Training epoch #92:   0%|          | 0/294 [00:00<?, ?it/s]"
      ]
     },
     "metadata": {},
     "output_type": "display_data"
    },
    {
     "name": "stdout",
     "output_type": "stream",
     "text": [
      "train_loss=0.0272 val_loss=0.0360\n"
     ]
    },
    {
     "data": {
      "application/vnd.jupyter.widget-view+json": {
       "model_id": "1693d6216dba4d38ab53659a26f65c48",
       "version_major": 2,
       "version_minor": 0
      },
      "text/plain": [
       "Training epoch #93:   0%|          | 0/294 [00:00<?, ?it/s]"
      ]
     },
     "metadata": {},
     "output_type": "display_data"
    },
    {
     "name": "stdout",
     "output_type": "stream",
     "text": [
      "train_loss=0.0272 val_loss=0.0360\n"
     ]
    },
    {
     "data": {
      "application/vnd.jupyter.widget-view+json": {
       "model_id": "f4dc20ad457b4a7fb8562f6598b4742e",
       "version_major": 2,
       "version_minor": 0
      },
      "text/plain": [
       "Training epoch #94:   0%|          | 0/294 [00:00<?, ?it/s]"
      ]
     },
     "metadata": {},
     "output_type": "display_data"
    },
    {
     "name": "stdout",
     "output_type": "stream",
     "text": [
      "train_loss=0.0271 val_loss=0.0360\n"
     ]
    },
    {
     "data": {
      "application/vnd.jupyter.widget-view+json": {
       "model_id": "ba99eeb0ebc843078fea1e8fea0eb8eb",
       "version_major": 2,
       "version_minor": 0
      },
      "text/plain": [
       "Training epoch #95:   0%|          | 0/294 [00:00<?, ?it/s]"
      ]
     },
     "metadata": {},
     "output_type": "display_data"
    },
    {
     "name": "stdout",
     "output_type": "stream",
     "text": [
      "train_loss=0.0271 val_loss=0.0359\n"
     ]
    },
    {
     "data": {
      "application/vnd.jupyter.widget-view+json": {
       "model_id": "c5a4a313f2c440b5b30d6050b2acb39b",
       "version_major": 2,
       "version_minor": 0
      },
      "text/plain": [
       "Training epoch #96:   0%|          | 0/294 [00:00<?, ?it/s]"
      ]
     },
     "metadata": {},
     "output_type": "display_data"
    },
    {
     "name": "stdout",
     "output_type": "stream",
     "text": [
      "train_loss=0.0271 val_loss=0.0360\n"
     ]
    },
    {
     "data": {
      "application/vnd.jupyter.widget-view+json": {
       "model_id": "88729d728c9a4526be0de2d065a623ac",
       "version_major": 2,
       "version_minor": 0
      },
      "text/plain": [
       "Training epoch #97:   0%|          | 0/294 [00:00<?, ?it/s]"
      ]
     },
     "metadata": {},
     "output_type": "display_data"
    },
    {
     "name": "stdout",
     "output_type": "stream",
     "text": [
      "train_loss=0.0271 val_loss=0.0359\n"
     ]
    },
    {
     "data": {
      "application/vnd.jupyter.widget-view+json": {
       "model_id": "7a20775e5ffc423d869a44c8f4c240ff",
       "version_major": 2,
       "version_minor": 0
      },
      "text/plain": [
       "Training epoch #98:   0%|          | 0/294 [00:00<?, ?it/s]"
      ]
     },
     "metadata": {},
     "output_type": "display_data"
    },
    {
     "name": "stdout",
     "output_type": "stream",
     "text": [
      "train_loss=0.0270 val_loss=0.0360\n"
     ]
    },
    {
     "data": {
      "application/vnd.jupyter.widget-view+json": {
       "model_id": "6ea38a01d974481983d1baca02dc14a0",
       "version_major": 2,
       "version_minor": 0
      },
      "text/plain": [
       "Training epoch #99:   0%|          | 0/294 [00:00<?, ?it/s]"
      ]
     },
     "metadata": {},
     "output_type": "display_data"
    },
    {
     "name": "stdout",
     "output_type": "stream",
     "text": [
      "train_loss=0.0270 val_loss=0.0360\n"
     ]
    }
   ],
   "source": [
    "class BaselineTrainingProcedure:\n",
    "    def __init__(self, model: BaselineSSTDifferenceModel, device: str, lr: float = 1e-3) -> None:\n",
    "        self._model = model.to(device)\n",
    "        self._device = device\n",
    "\n",
    "        self._optimizer = torch.optim.Adam(self._model.parameters(), lr=lr)\n",
    "\n",
    "    def train(self, dataloader: DataLoader, epoch: int) -> float:\n",
    "        model = self._model.train()\n",
    "        device = self._device\n",
    "        optimizer = self._optimizer\n",
    "\n",
    "        total_loss = 0.\n",
    "        nb_batches = len(dataloader)\n",
    "        for X, y in tqdm(dataloader, total=nb_batches, desc=f'Training epoch #{epoch}'):\n",
    "            X, y = X.to(device), y.to(device)\n",
    "\n",
    "            y_pred = model(X)\n",
    "            loss = F.smooth_l1_loss(y_pred, y)\n",
    "\n",
    "            total_loss += float(loss.cpu().item())\n",
    "\n",
    "            optimizer.zero_grad()\n",
    "            loss.backward()\n",
    "            optimizer.step()\n",
    "\n",
    "        return total_loss /  nb_batches\n",
    "\n",
    "    @torch.no_grad()\n",
    "    def evaluate(self, dataloader) -> float:\n",
    "        model = self._model.eval()\n",
    "        device = self._device\n",
    "\n",
    "        total_loss = 0.\n",
    "        nb_batches = len(dataloader)\n",
    "        for X, y in dataloader:\n",
    "            X, y = X.to(device), y.to(device)\n",
    "\n",
    "            y_pred = model(X)\n",
    "            # loss = F.mse_loss(y_pred, y)\n",
    "            loss = F.smooth_l1_loss(y_pred, y)\n",
    "\n",
    "            total_loss += float(loss.cpu().item())\n",
    "\n",
    "        return total_loss / nb_batches\n",
    "\n",
    "\n",
    "# Obtain training device.\n",
    "device = 'cuda' if torch.cuda.is_available() else 'cpu'\n",
    "print(device)\n",
    "\n",
    "# Training model.\n",
    "model = BaselineSSTDifferenceModel(3)\n",
    "train_dataloader = DataLoader(train_ds, batch_size=256, shuffle=True, num_workers=4)\n",
    "val_dataloader = DataLoader(val_ds, batch_size=256, num_workers=4)\n",
    "\n",
    "training_procedure = BaselineTrainingProcedure(model, device)\n",
    "epochs = 1 if device == 'cpu' else 100\n",
    "for epoch in range(epochs):\n",
    "    train_loss = training_procedure.train(train_dataloader, epoch)\n",
    "    val_loss = training_procedure.evaluate(val_dataloader)\n",
    "\n",
    "    print(f'{train_loss=:.4f} {val_loss=:.4f}')"
   ]
  },
  {
   "cell_type": "markdown",
   "id": "b36c8eb4",
   "metadata": {},
   "source": [
    "### Results\n",
    "\n",
    "Here, we will display some prediction results."
   ]
  },
  {
   "cell_type": "code",
   "execution_count": 8,
   "id": "f25801dc",
   "metadata": {
    "lines_to_next_cell": 2
   },
   "outputs": [
    {
     "data": {
      "image/png": "[encoded data removed]",
      "text/plain": [
       "<Figure size 800x400 with 4 Axes>"
      ]
     },
     "metadata": {},
     "output_type": "display_data"
    },
    {
     "data": {
      "image/png": "[encoded data removed]",
      "text/plain": [
       "<Figure size 800x400 with 4 Axes>"
      ]
     },
     "metadata": {},
     "output_type": "display_data"
    },
    {
     "data": {
      "image/png": "[encoded data removed]",
      "text/plain": [
       "<Figure size 800x400 with 4 Axes>"
      ]
     },
     "metadata": {},
     "output_type": "display_data"
    },
    {
     "data": {
      "image/png": "[encoded data removed]",
      "text/plain": [
       "<Figure size 800x400 with 4 Axes>"
      ]
     },
     "metadata": {},
     "output_type": "display_data"
    }
   ],
   "source": [
    "test_idx = [100, 250, 233, 750]\n",
    "for idx in test_idx:\n",
    "    X, y = test_diff_ds[idx]\n",
    "    X = torch.tensor(X[None, ...]).to(device)\n",
    "    y_pred = model(X).detach().cpu()\n",
    "\n",
    "    fig, axes = plt.subplots(ncols=2, figsize=(8, 4))\n",
    "    ax = axes[0]\n",
    "    cs = ax.pcolormesh(y[0])\n",
    "    fig.colorbar(cs, ax=ax)\n",
    "    ax.set_title('Original SST Difference')\n",
    "\n",
    "    ax = axes[1]\n",
    "    cs = ax.pcolormesh(y_pred[0, 0])\n",
    "    fig.colorbar(cs, ax=ax)\n",
    "    ax.set_title('Predicted SST Difference')\n",
    "\n",
    "    fig.suptitle(f'test_diff_ds[{idx}]')\n",
    "    fig.tight_layout()"
   ]
  },
  {
   "cell_type": "markdown",
   "id": "9ae10e45",
   "metadata": {},
   "source": [
    "## Test MSE"
   ]
  },
  {
   "cell_type": "code",
   "execution_count": 9,
   "id": "753b05bb",
   "metadata": {},
   "outputs": [
    {
     "name": "stdout",
     "output_type": "stream",
     "text": [
      "Difference error: 0.3108\n",
      "Temperature error: 0.3108\n"
     ]
    }
   ],
   "source": [
    "model.eval()\n",
    "test_dataloader = DataLoader(test_ds, batch_size=256, num_workers=4)\n",
    "test_diff_dataloader = DataLoader(test_diff_ds, batch_size=256, num_workers=4)\n",
    "\n",
    "diff_total_err = 0.\n",
    "temp_total_err = 0.\n",
    "\n",
    "with torch.no_grad():\n",
    "    for (X_diff, y_diff), (X, y) in zip(test_diff_dataloader, test_dataloader):\n",
    "        y_diff_pred = model(X_diff.to(device)).detach().cpu()\n",
    "\n",
    "        # Calculate mse.\n",
    "        diff_total_err += float(F.mse_loss(y_diff_pred, y_diff).item())\n",
    "\n",
    "        # Convert to normal temperature.\n",
    "        y_pred = X[:, -1:] + y_diff_pred\n",
    "        temp_total_err += float(F.mse_loss(y_pred, y).item())\n",
    "\n",
    "print(f'Difference error: {(diff_total_err / len(test_dataloader)):.4f}')\n",
    "print(f'Temperature error: {(temp_total_err / len(test_dataloader)):.4f}')"
   ]
  },
  {
   "cell_type": "code",
   "execution_count": 14,
   "id": "df5bf738",
   "metadata": {},
   "outputs": [
    {
     "name": "stdout",
     "output_type": "stream",
     "text": [
      "Difference error: 0.0516\n"
     ]
    }
   ],
   "source": [
    "# Train difference error.\n",
    "model.eval()\n",
    "diff_total_err = 0.\n",
    "temp_total_err = 0.\n",
    "\n",
    "with torch.no_grad():\n",
    "    for X_diff, y_diff in train_dataloader:\n",
    "        y_diff_pred = model(X_diff.to(device)).detach().cpu()\n",
    "\n",
    "        # Calculate mse.\n",
    "        diff_total_err += float(F.mse_loss(y_diff_pred, y_diff).item())\n",
    "\n",
    "print(f'Difference error: {(diff_total_err / len(train_dataloader)):.4f}')"
   ]
  },
  {
   "cell_type": "code",
   "execution_count": 15,
   "id": "d02cf07d",
   "metadata": {},
   "outputs": [
    {
     "name": "stdout",
     "output_type": "stream",
     "text": [
      "Difference error: 0.0753\n"
     ]
    }
   ],
   "source": [
    "# Validation difference error.\n",
    "model.eval()\n",
    "diff_total_err = 0.\n",
    "temp_total_err = 0.\n",
    "\n",
    "with torch.no_grad():\n",
    "    for X_diff, y_diff in val_dataloader:\n",
    "        y_diff_pred = model(X_diff.to(device)).detach().cpu()\n",
    "\n",
    "        # Calculate mse.\n",
    "        diff_total_err += float(F.mse_loss(y_diff_pred, y_diff).item())\n",
    "\n",
    "print(f'Difference error: {(diff_total_err / len(val_dataloader)):.4f}')"
   ]
  }
 ],
 "metadata": {
  "author": "Quan Nguyen",
  "jupytext": {
   "formats": "py:light,ipynb",
   "notebook_metadata_filter": "title,author,date"
  },
  "kernelspec": {
   "display_name": "Python 3 (ipykernel)",
   "language": "python",
   "name": "python3"
  },
  "language_info": {
   "codemirror_mode": {
    "name": "ipython",
    "version": 3
   },
   "file_extension": ".py",
   "mimetype": "text/x-python",
   "name": "python",
   "nbconvert_exporter": "python",
   "pygments_lexer": "ipython3",
   "version": "3.10.8"
  },
  "title": "Baseline Future SST Difference Prediction using Fully Connected Networks"
 },
 "nbformat": 4,
 "nbformat_minor": 5
}
