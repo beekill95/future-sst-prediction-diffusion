{
 "cells": [
  {
   "cell_type": "code",
   "execution_count": 1,
   "id": "a92b736b",
   "metadata": {},
   "outputs": [
    {
     "name": "stdout",
     "output_type": "stream",
     "text": [
      "/N/slate/qmnguyen/projects/future-sst-prediction-diffusion\n"
     ]
    }
   ],
   "source": [
    "%cd ..\n",
    "%load_ext autoreload\n",
    "%autoreload 2"
   ]
  },
  {
   "cell_type": "code",
   "execution_count": 2,
   "id": "6f27d380",
   "metadata": {},
   "outputs": [],
   "source": [
    "from __future__ import annotations\n",
    "\n",
    "import matplotlib.pyplot as plt\n",
    "import torch\n",
    "import torch.nn as nn\n",
    "import torch.nn.functional as F\n",
    "from torch.utils.data import DataLoader, random_split\n",
    "from torchvision.transforms import Compose, Lambda\n",
    "from tqdm.autonotebook import tqdm\n",
    "\n",
    "from sst.dataset import NOAA_OI_SST, Difference_NOAA_OI_SST"
   ]
  },
  {
   "cell_type": "markdown",
   "id": "6f2603df",
   "metadata": {},
   "source": [
    "# Baseline Future SST Difference Prediction using Fully Connected Networks\n",
    "\n",
    "In this notebook,\n",
    "we will establish a baseline for future SST difference prediction using fully connected networks.\n",
    "So no fancy diffusion models here.\n",
    "We just want to know whether a very simple network can do the job or not."
   ]
  },
  {
   "cell_type": "markdown",
   "id": "6823a54e",
   "metadata": {},
   "source": [
    "## Dataset\n",
    "\n",
    "Similar to that of [sst_unconditional_diffusion.py](./sst_unconditional_diffusion.py):"
   ]
  },
  {
   "cell_type": "code",
   "execution_count": 3,
   "id": "0918bba6",
   "metadata": {},
   "outputs": [],
   "source": [
    "train_ds = NOAA_OI_SST(train=True)\n",
    "train_ds = Difference_NOAA_OI_SST(train_ds)"
   ]
  },
  {
   "cell_type": "markdown",
   "id": "12f83634",
   "metadata": {},
   "source": [
    "We will want to split the data into training and validation data using 20% split:\n",
    "80% for training and 20% for validation."
   ]
  },
  {
   "cell_type": "code",
   "execution_count": 4,
   "id": "9bc23a4a",
   "metadata": {},
   "outputs": [
    {
     "name": "stdout",
     "output_type": "stream",
     "text": [
      "train_size=75129 len(train_ds)=75129\n",
      "val_size=18783 len(val_ds)=18783\n"
     ]
    }
   ],
   "source": [
    "train_size = int(len(train_ds) * 0.8)\n",
    "val_size = len(train_ds) - train_size\n",
    "train_ds, val_ds = random_split(train_ds, [train_size, val_size])\n",
    "print(f'{train_size=} {len(train_ds)=}')\n",
    "print(f'{val_size=} {len(val_ds)=}')"
   ]
  },
  {
   "cell_type": "markdown",
   "id": "9dd656ff",
   "metadata": {},
   "source": [
    "In addition, we will need test dataset for this experiment."
   ]
  },
  {
   "cell_type": "code",
   "execution_count": 5,
   "id": "b3f7c9e2",
   "metadata": {},
   "outputs": [
    {
     "name": "stdout",
     "output_type": "stream",
     "text": [
      "len(test_ds)=2892\n"
     ]
    }
   ],
   "source": [
    "test_ds = NOAA_OI_SST(train=False)\n",
    "test_diff_ds = Difference_NOAA_OI_SST(test_ds)\n",
    "print(f'{len(test_ds)=}')"
   ]
  },
  {
   "cell_type": "markdown",
   "id": "67709b8b",
   "metadata": {},
   "source": [
    "## Fully-Connected Network"
   ]
  },
  {
   "cell_type": "code",
   "execution_count": 6,
   "id": "ebd2e18f",
   "metadata": {
    "lines_to_next_cell": 1
   },
   "outputs": [],
   "source": [
    "class BaselineSSTDifferenceModel(nn.Module):\n",
    "    def __init__(self, nb_past_observations: int) -> None:\n",
    "        super().__init__()\n",
    "\n",
    "        self.flatten = nn.Flatten()\n",
    "        self.hidden = nn.Sequential(\n",
    "            nn.Linear(24*24*nb_past_observations, 1024), nn.LayerNorm(1024), nn.ReLU(), nn.Dropout(0.5),\n",
    "            nn.Linear(1024, 2048), nn.LayerNorm(2048), nn.ReLU(), nn.Dropout(0.5),\n",
    "        )\n",
    "        self.output = nn.Linear(2048, 24*24)\n",
    "        self.unflatten = nn.Unflatten(1, unflattened_size=(1, 24, 24))\n",
    "\n",
    "    def forward(self, x):\n",
    "        x = self.flatten(x)\n",
    "        x = self.hidden(x)\n",
    "        x = self.output(x)\n",
    "        x = self.unflatten(x)\n",
    "        return x"
   ]
  },
  {
   "cell_type": "markdown",
   "id": "7620b434",
   "metadata": {},
   "source": [
    "### Training"
   ]
  },
  {
   "cell_type": "code",
   "execution_count": 7,
   "id": "a90152e7",
   "metadata": {
    "scrolled": true,
    "tags": []
   },
   "outputs": [
    {
     "name": "stdout",
     "output_type": "stream",
     "text": [
      "cuda\n"
     ]
    },
    {
     "data": {
      "application/vnd.jupyter.widget-view+json": {
       "model_id": "26bfbbb37dbb428483e532fa1278b544",
       "version_major": 2,
       "version_minor": 0
      },
      "text/plain": [
       "Training epoch #0:   0%|          | 0/294 [00:00<?, ?it/s]"
      ]
     },
     "metadata": {},
     "output_type": "display_data"
    },
    {
     "name": "stdout",
     "output_type": "stream",
     "text": [
      "train_loss=0.0472 val_loss=0.0354\n"
     ]
    },
    {
     "data": {
      "application/vnd.jupyter.widget-view+json": {
       "model_id": "763c3075e5764b2fb5cc4fca6f5720ae",
       "version_major": 2,
       "version_minor": 0
      },
      "text/plain": [
       "Training epoch #1:   0%|          | 0/294 [00:00<?, ?it/s]"
      ]
     },
     "metadata": {},
     "output_type": "display_data"
    },
    {
     "name": "stdout",
     "output_type": "stream",
     "text": [
      "train_loss=0.0359 val_loss=0.0350\n"
     ]
    },
    {
     "data": {
      "application/vnd.jupyter.widget-view+json": {
       "model_id": "5a5a207df51f457d812a8a6ea3483bc4",
       "version_major": 2,
       "version_minor": 0
      },
      "text/plain": [
       "Training epoch #2:   0%|          | 0/294 [00:00<?, ?it/s]"
      ]
     },
     "metadata": {},
     "output_type": "display_data"
    },
    {
     "name": "stdout",
     "output_type": "stream",
     "text": [
      "train_loss=0.0351 val_loss=0.0348\n"
     ]
    },
    {
     "data": {
      "application/vnd.jupyter.widget-view+json": {
       "model_id": "0d034d9f355c44839042e9ccb707271d",
       "version_major": 2,
       "version_minor": 0
      },
      "text/plain": [
       "Training epoch #3:   0%|          | 0/294 [00:00<?, ?it/s]"
      ]
     },
     "metadata": {},
     "output_type": "display_data"
    },
    {
     "name": "stdout",
     "output_type": "stream",
     "text": [
      "train_loss=0.0348 val_loss=0.0347\n"
     ]
    },
    {
     "data": {
      "application/vnd.jupyter.widget-view+json": {
       "model_id": "f3a00d4e61e94f73899e5fae767988d1",
       "version_major": 2,
       "version_minor": 0
      },
      "text/plain": [
       "Training epoch #4:   0%|          | 0/294 [00:00<?, ?it/s]"
      ]
     },
     "metadata": {},
     "output_type": "display_data"
    },
    {
     "name": "stdout",
     "output_type": "stream",
     "text": [
      "train_loss=0.0346 val_loss=0.0346\n"
     ]
    },
    {
     "data": {
      "application/vnd.jupyter.widget-view+json": {
       "model_id": "7320815554c7448880df6fc25991467b",
       "version_major": 2,
       "version_minor": 0
      },
      "text/plain": [
       "Training epoch #5:   0%|          | 0/294 [00:00<?, ?it/s]"
      ]
     },
     "metadata": {},
     "output_type": "display_data"
    },
    {
     "name": "stdout",
     "output_type": "stream",
     "text": [
      "train_loss=0.0344 val_loss=0.0345\n"
     ]
    },
    {
     "data": {
      "application/vnd.jupyter.widget-view+json": {
       "model_id": "4366f5f3285a42c1bee6d88d1a99fdb5",
       "version_major": 2,
       "version_minor": 0
      },
      "text/plain": [
       "Training epoch #6:   0%|          | 0/294 [00:00<?, ?it/s]"
      ]
     },
     "metadata": {},
     "output_type": "display_data"
    },
    {
     "name": "stdout",
     "output_type": "stream",
     "text": [
      "train_loss=0.0343 val_loss=0.0346\n"
     ]
    },
    {
     "data": {
      "application/vnd.jupyter.widget-view+json": {
       "model_id": "1ccc6bd3bed947d98b78018a7615bd70",
       "version_major": 2,
       "version_minor": 0
      },
      "text/plain": [
       "Training epoch #7:   0%|          | 0/294 [00:00<?, ?it/s]"
      ]
     },
     "metadata": {},
     "output_type": "display_data"
    },
    {
     "name": "stdout",
     "output_type": "stream",
     "text": [
      "train_loss=0.0342 val_loss=0.0345\n"
     ]
    },
    {
     "data": {
      "application/vnd.jupyter.widget-view+json": {
       "model_id": "55fa5e0bc0a6453595b7d452be467662",
       "version_major": 2,
       "version_minor": 0
      },
      "text/plain": [
       "Training epoch #8:   0%|          | 0/294 [00:00<?, ?it/s]"
      ]
     },
     "metadata": {},
     "output_type": "display_data"
    },
    {
     "name": "stdout",
     "output_type": "stream",
     "text": [
      "train_loss=0.0341 val_loss=0.0344\n"
     ]
    },
    {
     "data": {
      "application/vnd.jupyter.widget-view+json": {
       "model_id": "d331101dde6d492ea5a07b12b44ffe0d",
       "version_major": 2,
       "version_minor": 0
      },
      "text/plain": [
       "Training epoch #9:   0%|          | 0/294 [00:00<?, ?it/s]"
      ]
     },
     "metadata": {},
     "output_type": "display_data"
    },
    {
     "name": "stdout",
     "output_type": "stream",
     "text": [
      "train_loss=0.0340 val_loss=0.0344\n"
     ]
    },
    {
     "data": {
      "application/vnd.jupyter.widget-view+json": {
       "model_id": "44b64520edb3415da736a1e7923571a9",
       "version_major": 2,
       "version_minor": 0
      },
      "text/plain": [
       "Training epoch #10:   0%|          | 0/294 [00:00<?, ?it/s]"
      ]
     },
     "metadata": {},
     "output_type": "display_data"
    },
    {
     "name": "stdout",
     "output_type": "stream",
     "text": [
      "train_loss=0.0339 val_loss=0.0344\n"
     ]
    },
    {
     "data": {
      "application/vnd.jupyter.widget-view+json": {
       "model_id": "f502ca992950467faab1c2612f16fd70",
       "version_major": 2,
       "version_minor": 0
      },
      "text/plain": [
       "Training epoch #11:   0%|          | 0/294 [00:00<?, ?it/s]"
      ]
     },
     "metadata": {},
     "output_type": "display_data"
    },
    {
     "name": "stdout",
     "output_type": "stream",
     "text": [
      "train_loss=0.0338 val_loss=0.0345\n"
     ]
    },
    {
     "data": {
      "application/vnd.jupyter.widget-view+json": {
       "model_id": "b4581179957d4dba9e225c635405ea46",
       "version_major": 2,
       "version_minor": 0
      },
      "text/plain": [
       "Training epoch #12:   0%|          | 0/294 [00:00<?, ?it/s]"
      ]
     },
     "metadata": {},
     "output_type": "display_data"
    },
    {
     "name": "stdout",
     "output_type": "stream",
     "text": [
      "train_loss=0.0337 val_loss=0.0344\n"
     ]
    },
    {
     "data": {
      "application/vnd.jupyter.widget-view+json": {
       "model_id": "142adf8c83324ba8b28b80b3a1ab7a5c",
       "version_major": 2,
       "version_minor": 0
      },
      "text/plain": [
       "Training epoch #13:   0%|          | 0/294 [00:00<?, ?it/s]"
      ]
     },
     "metadata": {},
     "output_type": "display_data"
    },
    {
     "name": "stdout",
     "output_type": "stream",
     "text": [
      "train_loss=0.0336 val_loss=0.0344\n"
     ]
    },
    {
     "data": {
      "application/vnd.jupyter.widget-view+json": {
       "model_id": "122c03acb7be44d18b626b628be26ee7",
       "version_major": 2,
       "version_minor": 0
      },
      "text/plain": [
       "Training epoch #14:   0%|          | 0/294 [00:00<?, ?it/s]"
      ]
     },
     "metadata": {},
     "output_type": "display_data"
    },
    {
     "name": "stdout",
     "output_type": "stream",
     "text": [
      "train_loss=0.0335 val_loss=0.0343\n"
     ]
    },
    {
     "data": {
      "application/vnd.jupyter.widget-view+json": {
       "model_id": "8e1d5a18f7e448d1bb047d4e1064ff8b",
       "version_major": 2,
       "version_minor": 0
      },
      "text/plain": [
       "Training epoch #15:   0%|          | 0/294 [00:00<?, ?it/s]"
      ]
     },
     "metadata": {},
     "output_type": "display_data"
    },
    {
     "name": "stdout",
     "output_type": "stream",
     "text": [
      "train_loss=0.0334 val_loss=0.0344\n"
     ]
    },
    {
     "data": {
      "application/vnd.jupyter.widget-view+json": {
       "model_id": "e679cea4727c43c2be29299789050b9f",
       "version_major": 2,
       "version_minor": 0
      },
      "text/plain": [
       "Training epoch #16:   0%|          | 0/294 [00:00<?, ?it/s]"
      ]
     },
     "metadata": {},
     "output_type": "display_data"
    },
    {
     "name": "stdout",
     "output_type": "stream",
     "text": [
      "train_loss=0.0333 val_loss=0.0343\n"
     ]
    },
    {
     "data": {
      "application/vnd.jupyter.widget-view+json": {
       "model_id": "4f04c06d1b41413e8c4ad77d205667aa",
       "version_major": 2,
       "version_minor": 0
      },
      "text/plain": [
       "Training epoch #17:   0%|          | 0/294 [00:00<?, ?it/s]"
      ]
     },
     "metadata": {},
     "output_type": "display_data"
    },
    {
     "name": "stdout",
     "output_type": "stream",
     "text": [
      "train_loss=0.0332 val_loss=0.0343\n"
     ]
    },
    {
     "data": {
      "application/vnd.jupyter.widget-view+json": {
       "model_id": "a3e21b4fe8e74ef093a6ebc0fa4f9f71",
       "version_major": 2,
       "version_minor": 0
      },
      "text/plain": [
       "Training epoch #18:   0%|          | 0/294 [00:00<?, ?it/s]"
      ]
     },
     "metadata": {},
     "output_type": "display_data"
    },
    {
     "name": "stdout",
     "output_type": "stream",
     "text": [
      "train_loss=0.0331 val_loss=0.0345\n"
     ]
    },
    {
     "data": {
      "application/vnd.jupyter.widget-view+json": {
       "model_id": "fe49cb4190fe4b4fb2fdd3d8a1a35f69",
       "version_major": 2,
       "version_minor": 0
      },
      "text/plain": [
       "Training epoch #19:   0%|          | 0/294 [00:00<?, ?it/s]"
      ]
     },
     "metadata": {},
     "output_type": "display_data"
    },
    {
     "name": "stdout",
     "output_type": "stream",
     "text": [
      "train_loss=0.0330 val_loss=0.0343\n"
     ]
    },
    {
     "data": {
      "application/vnd.jupyter.widget-view+json": {
       "model_id": "73e86ec5c0754aada912d827f1394b0f",
       "version_major": 2,
       "version_minor": 0
      },
      "text/plain": [
       "Training epoch #20:   0%|          | 0/294 [00:00<?, ?it/s]"
      ]
     },
     "metadata": {},
     "output_type": "display_data"
    },
    {
     "name": "stdout",
     "output_type": "stream",
     "text": [
      "train_loss=0.0329 val_loss=0.0344\n"
     ]
    },
    {
     "data": {
      "application/vnd.jupyter.widget-view+json": {
       "model_id": "32f431fb85bb4defbc2a1d4ecc2ce601",
       "version_major": 2,
       "version_minor": 0
      },
      "text/plain": [
       "Training epoch #21:   0%|          | 0/294 [00:00<?, ?it/s]"
      ]
     },
     "metadata": {},
     "output_type": "display_data"
    },
    {
     "name": "stdout",
     "output_type": "stream",
     "text": [
      "train_loss=0.0328 val_loss=0.0345\n"
     ]
    },
    {
     "data": {
      "application/vnd.jupyter.widget-view+json": {
       "model_id": "21cd5fab87044e9990467dbd53d6d457",
       "version_major": 2,
       "version_minor": 0
      },
      "text/plain": [
       "Training epoch #22:   0%|          | 0/294 [00:00<?, ?it/s]"
      ]
     },
     "metadata": {},
     "output_type": "display_data"
    },
    {
     "name": "stdout",
     "output_type": "stream",
     "text": [
      "train_loss=0.0327 val_loss=0.0346\n"
     ]
    },
    {
     "data": {
      "application/vnd.jupyter.widget-view+json": {
       "model_id": "317dfbea97df4a71803db90b1d9c6f94",
       "version_major": 2,
       "version_minor": 0
      },
      "text/plain": [
       "Training epoch #23:   0%|          | 0/294 [00:00<?, ?it/s]"
      ]
     },
     "metadata": {},
     "output_type": "display_data"
    },
    {
     "name": "stdout",
     "output_type": "stream",
     "text": [
      "train_loss=0.0326 val_loss=0.0345\n"
     ]
    },
    {
     "data": {
      "application/vnd.jupyter.widget-view+json": {
       "model_id": "33bf3c9ba36f4ecd9cbfbfea3a82b922",
       "version_major": 2,
       "version_minor": 0
      },
      "text/plain": [
       "Training epoch #24:   0%|          | 0/294 [00:00<?, ?it/s]"
      ]
     },
     "metadata": {},
     "output_type": "display_data"
    },
    {
     "name": "stdout",
     "output_type": "stream",
     "text": [
      "train_loss=0.0324 val_loss=0.0345\n"
     ]
    },
    {
     "data": {
      "application/vnd.jupyter.widget-view+json": {
       "model_id": "2849092df93b4a58a86445147dffbf41",
       "version_major": 2,
       "version_minor": 0
      },
      "text/plain": [
       "Training epoch #25:   0%|          | 0/294 [00:00<?, ?it/s]"
      ]
     },
     "metadata": {},
     "output_type": "display_data"
    },
    {
     "name": "stdout",
     "output_type": "stream",
     "text": [
      "train_loss=0.0323 val_loss=0.0346\n"
     ]
    },
    {
     "data": {
      "application/vnd.jupyter.widget-view+json": {
       "model_id": "945c2008116f4d70a155996bcdcabf46",
       "version_major": 2,
       "version_minor": 0
      },
      "text/plain": [
       "Training epoch #26:   0%|          | 0/294 [00:00<?, ?it/s]"
      ]
     },
     "metadata": {},
     "output_type": "display_data"
    },
    {
     "name": "stdout",
     "output_type": "stream",
     "text": [
      "train_loss=0.0322 val_loss=0.0345\n"
     ]
    },
    {
     "data": {
      "application/vnd.jupyter.widget-view+json": {
       "model_id": "83bf3cdb380544e991fd17357f2d46d8",
       "version_major": 2,
       "version_minor": 0
      },
      "text/plain": [
       "Training epoch #27:   0%|          | 0/294 [00:00<?, ?it/s]"
      ]
     },
     "metadata": {},
     "output_type": "display_data"
    },
    {
     "name": "stdout",
     "output_type": "stream",
     "text": [
      "train_loss=0.0321 val_loss=0.0347\n"
     ]
    },
    {
     "data": {
      "application/vnd.jupyter.widget-view+json": {
       "model_id": "34683bc0ac8d442884868eb70c208fce",
       "version_major": 2,
       "version_minor": 0
      },
      "text/plain": [
       "Training epoch #28:   0%|          | 0/294 [00:00<?, ?it/s]"
      ]
     },
     "metadata": {},
     "output_type": "display_data"
    },
    {
     "name": "stdout",
     "output_type": "stream",
     "text": [
      "train_loss=0.0320 val_loss=0.0346\n"
     ]
    },
    {
     "data": {
      "application/vnd.jupyter.widget-view+json": {
       "model_id": "e057d2d9d0dc4d8fb0e6e190ccd64188",
       "version_major": 2,
       "version_minor": 0
      },
      "text/plain": [
       "Training epoch #29:   0%|          | 0/294 [00:00<?, ?it/s]"
      ]
     },
     "metadata": {},
     "output_type": "display_data"
    },
    {
     "name": "stdout",
     "output_type": "stream",
     "text": [
      "train_loss=0.0319 val_loss=0.0347\n"
     ]
    },
    {
     "data": {
      "application/vnd.jupyter.widget-view+json": {
       "model_id": "1bdfa328f82f43afb551fa49f5732929",
       "version_major": 2,
       "version_minor": 0
      },
      "text/plain": [
       "Training epoch #30:   0%|          | 0/294 [00:00<?, ?it/s]"
      ]
     },
     "metadata": {},
     "output_type": "display_data"
    },
    {
     "name": "stdout",
     "output_type": "stream",
     "text": [
      "train_loss=0.0317 val_loss=0.0347\n"
     ]
    },
    {
     "data": {
      "application/vnd.jupyter.widget-view+json": {
       "model_id": "b95ab2756e5a408bbb64c99f316c82d4",
       "version_major": 2,
       "version_minor": 0
      },
      "text/plain": [
       "Training epoch #31:   0%|          | 0/294 [00:00<?, ?it/s]"
      ]
     },
     "metadata": {},
     "output_type": "display_data"
    },
    {
     "name": "stdout",
     "output_type": "stream",
     "text": [
      "train_loss=0.0316 val_loss=0.0348\n"
     ]
    },
    {
     "data": {
      "application/vnd.jupyter.widget-view+json": {
       "model_id": "86065a0d1430471dbbf77705c7c387ff",
       "version_major": 2,
       "version_minor": 0
      },
      "text/plain": [
       "Training epoch #32:   0%|          | 0/294 [00:00<?, ?it/s]"
      ]
     },
     "metadata": {},
     "output_type": "display_data"
    },
    {
     "name": "stdout",
     "output_type": "stream",
     "text": [
      "train_loss=0.0315 val_loss=0.0347\n"
     ]
    },
    {
     "data": {
      "application/vnd.jupyter.widget-view+json": {
       "model_id": "6389c7f6198e44db933e3c60e4a6a77d",
       "version_major": 2,
       "version_minor": 0
      },
      "text/plain": [
       "Training epoch #33:   0%|          | 0/294 [00:00<?, ?it/s]"
      ]
     },
     "metadata": {},
     "output_type": "display_data"
    },
    {
     "name": "stdout",
     "output_type": "stream",
     "text": [
      "train_loss=0.0314 val_loss=0.0347\n"
     ]
    },
    {
     "data": {
      "application/vnd.jupyter.widget-view+json": {
       "model_id": "38c503d79374449a89e8273cbc77c4d8",
       "version_major": 2,
       "version_minor": 0
      },
      "text/plain": [
       "Training epoch #34:   0%|          | 0/294 [00:00<?, ?it/s]"
      ]
     },
     "metadata": {},
     "output_type": "display_data"
    },
    {
     "name": "stdout",
     "output_type": "stream",
     "text": [
      "train_loss=0.0313 val_loss=0.0348\n"
     ]
    },
    {
     "data": {
      "application/vnd.jupyter.widget-view+json": {
       "model_id": "64487927ba9a4333b8450d1978328364",
       "version_major": 2,
       "version_minor": 0
      },
      "text/plain": [
       "Training epoch #35:   0%|          | 0/294 [00:00<?, ?it/s]"
      ]
     },
     "metadata": {},
     "output_type": "display_data"
    },
    {
     "name": "stdout",
     "output_type": "stream",
     "text": [
      "train_loss=0.0312 val_loss=0.0348\n"
     ]
    },
    {
     "data": {
      "application/vnd.jupyter.widget-view+json": {
       "model_id": "47b858879ff245e388f5fedcb1a4d83f",
       "version_major": 2,
       "version_minor": 0
      },
      "text/plain": [
       "Training epoch #36:   0%|          | 0/294 [00:00<?, ?it/s]"
      ]
     },
     "metadata": {},
     "output_type": "display_data"
    },
    {
     "name": "stdout",
     "output_type": "stream",
     "text": [
      "train_loss=0.0311 val_loss=0.0347\n"
     ]
    },
    {
     "data": {
      "application/vnd.jupyter.widget-view+json": {
       "model_id": "cdd9f8e6974247fb82a727b5c0d0db79",
       "version_major": 2,
       "version_minor": 0
      },
      "text/plain": [
       "Training epoch #37:   0%|          | 0/294 [00:00<?, ?it/s]"
      ]
     },
     "metadata": {},
     "output_type": "display_data"
    },
    {
     "name": "stdout",
     "output_type": "stream",
     "text": [
      "train_loss=0.0309 val_loss=0.0348\n"
     ]
    },
    {
     "data": {
      "application/vnd.jupyter.widget-view+json": {
       "model_id": "cd4fe7e09369423db4376e31e908cd11",
       "version_major": 2,
       "version_minor": 0
      },
      "text/plain": [
       "Training epoch #38:   0%|          | 0/294 [00:00<?, ?it/s]"
      ]
     },
     "metadata": {},
     "output_type": "display_data"
    },
    {
     "name": "stdout",
     "output_type": "stream",
     "text": [
      "train_loss=0.0309 val_loss=0.0349\n"
     ]
    },
    {
     "data": {
      "application/vnd.jupyter.widget-view+json": {
       "model_id": "c48ba9225133413ba37768ae2c64d726",
       "version_major": 2,
       "version_minor": 0
      },
      "text/plain": [
       "Training epoch #39:   0%|          | 0/294 [00:00<?, ?it/s]"
      ]
     },
     "metadata": {},
     "output_type": "display_data"
    },
    {
     "name": "stdout",
     "output_type": "stream",
     "text": [
      "train_loss=0.0307 val_loss=0.0349\n"
     ]
    },
    {
     "data": {
      "application/vnd.jupyter.widget-view+json": {
       "model_id": "b0b7dcba4a044aeabd37cc3bd7afa746",
       "version_major": 2,
       "version_minor": 0
      },
      "text/plain": [
       "Training epoch #40:   0%|          | 0/294 [00:00<?, ?it/s]"
      ]
     },
     "metadata": {},
     "output_type": "display_data"
    },
    {
     "name": "stdout",
     "output_type": "stream",
     "text": [
      "train_loss=0.0306 val_loss=0.0349\n"
     ]
    },
    {
     "data": {
      "application/vnd.jupyter.widget-view+json": {
       "model_id": "38a1cc998d064cf98d0db89eae2a135c",
       "version_major": 2,
       "version_minor": 0
      },
      "text/plain": [
       "Training epoch #41:   0%|          | 0/294 [00:00<?, ?it/s]"
      ]
     },
     "metadata": {},
     "output_type": "display_data"
    },
    {
     "name": "stdout",
     "output_type": "stream",
     "text": [
      "train_loss=0.0306 val_loss=0.0350\n"
     ]
    },
    {
     "data": {
      "application/vnd.jupyter.widget-view+json": {
       "model_id": "cd98edbb19f1407fbaffa4c5b517e8d3",
       "version_major": 2,
       "version_minor": 0
      },
      "text/plain": [
       "Training epoch #42:   0%|          | 0/294 [00:00<?, ?it/s]"
      ]
     },
     "metadata": {},
     "output_type": "display_data"
    },
    {
     "name": "stdout",
     "output_type": "stream",
     "text": [
      "train_loss=0.0305 val_loss=0.0349\n"
     ]
    },
    {
     "data": {
      "application/vnd.jupyter.widget-view+json": {
       "model_id": "62af6a82700746de954bbace8b072435",
       "version_major": 2,
       "version_minor": 0
      },
      "text/plain": [
       "Training epoch #43:   0%|          | 0/294 [00:00<?, ?it/s]"
      ]
     },
     "metadata": {},
     "output_type": "display_data"
    },
    {
     "name": "stdout",
     "output_type": "stream",
     "text": [
      "train_loss=0.0304 val_loss=0.0349\n"
     ]
    },
    {
     "data": {
      "application/vnd.jupyter.widget-view+json": {
       "model_id": "7f75d6d6bf6847bdb47f1d4f2e03c7d4",
       "version_major": 2,
       "version_minor": 0
      },
      "text/plain": [
       "Training epoch #44:   0%|          | 0/294 [00:00<?, ?it/s]"
      ]
     },
     "metadata": {},
     "output_type": "display_data"
    },
    {
     "name": "stdout",
     "output_type": "stream",
     "text": [
      "train_loss=0.0302 val_loss=0.0351\n"
     ]
    },
    {
     "data": {
      "application/vnd.jupyter.widget-view+json": {
       "model_id": "f261441558904bd7a4a8a492caee89d2",
       "version_major": 2,
       "version_minor": 0
      },
      "text/plain": [
       "Training epoch #45:   0%|          | 0/294 [00:00<?, ?it/s]"
      ]
     },
     "metadata": {},
     "output_type": "display_data"
    },
    {
     "name": "stdout",
     "output_type": "stream",
     "text": [
      "train_loss=0.0302 val_loss=0.0350\n"
     ]
    },
    {
     "data": {
      "application/vnd.jupyter.widget-view+json": {
       "model_id": "92fc424c2ff947a5b015a370c10abc8c",
       "version_major": 2,
       "version_minor": 0
      },
      "text/plain": [
       "Training epoch #46:   0%|          | 0/294 [00:00<?, ?it/s]"
      ]
     },
     "metadata": {},
     "output_type": "display_data"
    },
    {
     "name": "stdout",
     "output_type": "stream",
     "text": [
      "train_loss=0.0300 val_loss=0.0350\n"
     ]
    },
    {
     "data": {
      "application/vnd.jupyter.widget-view+json": {
       "model_id": "77b5547943c8487fb32c7b3d253faf51",
       "version_major": 2,
       "version_minor": 0
      },
      "text/plain": [
       "Training epoch #47:   0%|          | 0/294 [00:00<?, ?it/s]"
      ]
     },
     "metadata": {},
     "output_type": "display_data"
    },
    {
     "name": "stdout",
     "output_type": "stream",
     "text": [
      "train_loss=0.0300 val_loss=0.0350\n"
     ]
    },
    {
     "data": {
      "application/vnd.jupyter.widget-view+json": {
       "model_id": "77fa7c7b436e4baf8bb96b87fee4827c",
       "version_major": 2,
       "version_minor": 0
      },
      "text/plain": [
       "Training epoch #48:   0%|          | 0/294 [00:00<?, ?it/s]"
      ]
     },
     "metadata": {},
     "output_type": "display_data"
    },
    {
     "name": "stdout",
     "output_type": "stream",
     "text": [
      "train_loss=0.0299 val_loss=0.0351\n"
     ]
    },
    {
     "data": {
      "application/vnd.jupyter.widget-view+json": {
       "model_id": "ada9e1de613b45bfa861add589df3454",
       "version_major": 2,
       "version_minor": 0
      },
      "text/plain": [
       "Training epoch #49:   0%|          | 0/294 [00:00<?, ?it/s]"
      ]
     },
     "metadata": {},
     "output_type": "display_data"
    },
    {
     "name": "stdout",
     "output_type": "stream",
     "text": [
      "train_loss=0.0298 val_loss=0.0351\n"
     ]
    },
    {
     "data": {
      "application/vnd.jupyter.widget-view+json": {
       "model_id": "ed80a0635ead41298e3a7469934dbe84",
       "version_major": 2,
       "version_minor": 0
      },
      "text/plain": [
       "Training epoch #50:   0%|          | 0/294 [00:00<?, ?it/s]"
      ]
     },
     "metadata": {},
     "output_type": "display_data"
    },
    {
     "name": "stdout",
     "output_type": "stream",
     "text": [
      "train_loss=0.0297 val_loss=0.0351\n"
     ]
    },
    {
     "data": {
      "application/vnd.jupyter.widget-view+json": {
       "model_id": "7f655b7f043745d5b2ed9ee6ba76b4f2",
       "version_major": 2,
       "version_minor": 0
      },
      "text/plain": [
       "Training epoch #51:   0%|          | 0/294 [00:00<?, ?it/s]"
      ]
     },
     "metadata": {},
     "output_type": "display_data"
    },
    {
     "name": "stdout",
     "output_type": "stream",
     "text": [
      "train_loss=0.0297 val_loss=0.0352\n"
     ]
    },
    {
     "data": {
      "application/vnd.jupyter.widget-view+json": {
       "model_id": "a1285abbb3ac44d18d544ae20ab7ef14",
       "version_major": 2,
       "version_minor": 0
      },
      "text/plain": [
       "Training epoch #52:   0%|          | 0/294 [00:00<?, ?it/s]"
      ]
     },
     "metadata": {},
     "output_type": "display_data"
    },
    {
     "name": "stdout",
     "output_type": "stream",
     "text": [
      "train_loss=0.0295 val_loss=0.0351\n"
     ]
    },
    {
     "data": {
      "application/vnd.jupyter.widget-view+json": {
       "model_id": "4de5ed6aa56343c583741dd2123f4aad",
       "version_major": 2,
       "version_minor": 0
      },
      "text/plain": [
       "Training epoch #53:   0%|          | 0/294 [00:00<?, ?it/s]"
      ]
     },
     "metadata": {},
     "output_type": "display_data"
    },
    {
     "name": "stdout",
     "output_type": "stream",
     "text": [
      "train_loss=0.0295 val_loss=0.0351\n"
     ]
    },
    {
     "data": {
      "application/vnd.jupyter.widget-view+json": {
       "model_id": "fdc3aa49eb244b798fd884ced2a30947",
       "version_major": 2,
       "version_minor": 0
      },
      "text/plain": [
       "Training epoch #54:   0%|          | 0/294 [00:00<?, ?it/s]"
      ]
     },
     "metadata": {},
     "output_type": "display_data"
    },
    {
     "name": "stdout",
     "output_type": "stream",
     "text": [
      "train_loss=0.0294 val_loss=0.0352\n"
     ]
    },
    {
     "data": {
      "application/vnd.jupyter.widget-view+json": {
       "model_id": "0dbdd2a351a04949aa76465dc6289136",
       "version_major": 2,
       "version_minor": 0
      },
      "text/plain": [
       "Training epoch #55:   0%|          | 0/294 [00:00<?, ?it/s]"
      ]
     },
     "metadata": {},
     "output_type": "display_data"
    },
    {
     "name": "stdout",
     "output_type": "stream",
     "text": [
      "train_loss=0.0293 val_loss=0.0352\n"
     ]
    },
    {
     "data": {
      "application/vnd.jupyter.widget-view+json": {
       "model_id": "71a5add2739b49659cbe2ba4ce8dd21e",
       "version_major": 2,
       "version_minor": 0
      },
      "text/plain": [
       "Training epoch #56:   0%|          | 0/294 [00:00<?, ?it/s]"
      ]
     },
     "metadata": {},
     "output_type": "display_data"
    },
    {
     "name": "stdout",
     "output_type": "stream",
     "text": [
      "train_loss=0.0292 val_loss=0.0352\n"
     ]
    },
    {
     "data": {
      "application/vnd.jupyter.widget-view+json": {
       "model_id": "530864b6e0b44ec1be81b3a94851212b",
       "version_major": 2,
       "version_minor": 0
      },
      "text/plain": [
       "Training epoch #57:   0%|          | 0/294 [00:00<?, ?it/s]"
      ]
     },
     "metadata": {},
     "output_type": "display_data"
    },
    {
     "name": "stdout",
     "output_type": "stream",
     "text": [
      "train_loss=0.0292 val_loss=0.0353\n"
     ]
    },
    {
     "data": {
      "application/vnd.jupyter.widget-view+json": {
       "model_id": "de04b822ecd143bd9ab5b21507bf064d",
       "version_major": 2,
       "version_minor": 0
      },
      "text/plain": [
       "Training epoch #58:   0%|          | 0/294 [00:00<?, ?it/s]"
      ]
     },
     "metadata": {},
     "output_type": "display_data"
    },
    {
     "name": "stdout",
     "output_type": "stream",
     "text": [
      "train_loss=0.0291 val_loss=0.0351\n"
     ]
    },
    {
     "data": {
      "application/vnd.jupyter.widget-view+json": {
       "model_id": "dc0fae85868942fe955bf16df0fb7921",
       "version_major": 2,
       "version_minor": 0
      },
      "text/plain": [
       "Training epoch #59:   0%|          | 0/294 [00:00<?, ?it/s]"
      ]
     },
     "metadata": {},
     "output_type": "display_data"
    },
    {
     "name": "stdout",
     "output_type": "stream",
     "text": [
      "train_loss=0.0291 val_loss=0.0352\n"
     ]
    },
    {
     "data": {
      "application/vnd.jupyter.widget-view+json": {
       "model_id": "87b99eaacdbc4fc3921baf143b4b0779",
       "version_major": 2,
       "version_minor": 0
      },
      "text/plain": [
       "Training epoch #60:   0%|          | 0/294 [00:00<?, ?it/s]"
      ]
     },
     "metadata": {},
     "output_type": "display_data"
    },
    {
     "name": "stdout",
     "output_type": "stream",
     "text": [
      "train_loss=0.0290 val_loss=0.0352\n"
     ]
    },
    {
     "data": {
      "application/vnd.jupyter.widget-view+json": {
       "model_id": "5e88a26acb5d46c5afd3681339680f61",
       "version_major": 2,
       "version_minor": 0
      },
      "text/plain": [
       "Training epoch #61:   0%|          | 0/294 [00:00<?, ?it/s]"
      ]
     },
     "metadata": {},
     "output_type": "display_data"
    },
    {
     "name": "stdout",
     "output_type": "stream",
     "text": [
      "train_loss=0.0289 val_loss=0.0352\n"
     ]
    },
    {
     "data": {
      "application/vnd.jupyter.widget-view+json": {
       "model_id": "f9c5b21d674c4ea5bbafd3a29443b079",
       "version_major": 2,
       "version_minor": 0
      },
      "text/plain": [
       "Training epoch #62:   0%|          | 0/294 [00:00<?, ?it/s]"
      ]
     },
     "metadata": {},
     "output_type": "display_data"
    },
    {
     "name": "stdout",
     "output_type": "stream",
     "text": [
      "train_loss=0.0288 val_loss=0.0353\n"
     ]
    },
    {
     "data": {
      "application/vnd.jupyter.widget-view+json": {
       "model_id": "d178d4e095a341a8b7418799b7b1a2e7",
       "version_major": 2,
       "version_minor": 0
      },
      "text/plain": [
       "Training epoch #63:   0%|          | 0/294 [00:00<?, ?it/s]"
      ]
     },
     "metadata": {},
     "output_type": "display_data"
    },
    {
     "name": "stdout",
     "output_type": "stream",
     "text": [
      "train_loss=0.0287 val_loss=0.0353\n"
     ]
    },
    {
     "data": {
      "application/vnd.jupyter.widget-view+json": {
       "model_id": "0488cf7232a64126a37cc81eacae010e",
       "version_major": 2,
       "version_minor": 0
      },
      "text/plain": [
       "Training epoch #64:   0%|          | 0/294 [00:00<?, ?it/s]"
      ]
     },
     "metadata": {},
     "output_type": "display_data"
    },
    {
     "name": "stdout",
     "output_type": "stream",
     "text": [
      "train_loss=0.0287 val_loss=0.0353\n"
     ]
    },
    {
     "data": {
      "application/vnd.jupyter.widget-view+json": {
       "model_id": "6a5f898c19bc4d4a9ba427a71fb1b6b0",
       "version_major": 2,
       "version_minor": 0
      },
      "text/plain": [
       "Training epoch #65:   0%|          | 0/294 [00:00<?, ?it/s]"
      ]
     },
     "metadata": {},
     "output_type": "display_data"
    },
    {
     "name": "stdout",
     "output_type": "stream",
     "text": [
      "train_loss=0.0286 val_loss=0.0354\n"
     ]
    },
    {
     "data": {
      "application/vnd.jupyter.widget-view+json": {
       "model_id": "bd23745a26e1481196eaa26c75948eb7",
       "version_major": 2,
       "version_minor": 0
      },
      "text/plain": [
       "Training epoch #66:   0%|          | 0/294 [00:00<?, ?it/s]"
      ]
     },
     "metadata": {},
     "output_type": "display_data"
    },
    {
     "name": "stdout",
     "output_type": "stream",
     "text": [
      "train_loss=0.0286 val_loss=0.0354\n"
     ]
    },
    {
     "data": {
      "application/vnd.jupyter.widget-view+json": {
       "model_id": "59d2110137cd49b2ba8626bb0b4905a9",
       "version_major": 2,
       "version_minor": 0
      },
      "text/plain": [
       "Training epoch #67:   0%|          | 0/294 [00:00<?, ?it/s]"
      ]
     },
     "metadata": {},
     "output_type": "display_data"
    },
    {
     "name": "stdout",
     "output_type": "stream",
     "text": [
      "train_loss=0.0285 val_loss=0.0353\n"
     ]
    },
    {
     "data": {
      "application/vnd.jupyter.widget-view+json": {
       "model_id": "c44baf021cc245a2ba40737cf037c2bb",
       "version_major": 2,
       "version_minor": 0
      },
      "text/plain": [
       "Training epoch #68:   0%|          | 0/294 [00:00<?, ?it/s]"
      ]
     },
     "metadata": {},
     "output_type": "display_data"
    },
    {
     "name": "stdout",
     "output_type": "stream",
     "text": [
      "train_loss=0.0284 val_loss=0.0353\n"
     ]
    },
    {
     "data": {
      "application/vnd.jupyter.widget-view+json": {
       "model_id": "6f4308d59a0a44d581f1b3c00abaac82",
       "version_major": 2,
       "version_minor": 0
      },
      "text/plain": [
       "Training epoch #69:   0%|          | 0/294 [00:00<?, ?it/s]"
      ]
     },
     "metadata": {},
     "output_type": "display_data"
    },
    {
     "name": "stdout",
     "output_type": "stream",
     "text": [
      "train_loss=0.0284 val_loss=0.0354\n"
     ]
    },
    {
     "data": {
      "application/vnd.jupyter.widget-view+json": {
       "model_id": "b5927f5d893c43b9a7f926f5641c025a",
       "version_major": 2,
       "version_minor": 0
      },
      "text/plain": [
       "Training epoch #70:   0%|          | 0/294 [00:00<?, ?it/s]"
      ]
     },
     "metadata": {},
     "output_type": "display_data"
    },
    {
     "name": "stdout",
     "output_type": "stream",
     "text": [
      "train_loss=0.0283 val_loss=0.0353\n"
     ]
    },
    {
     "data": {
      "application/vnd.jupyter.widget-view+json": {
       "model_id": "a7fce821d1d54e23950b31bbb6bab6ec",
       "version_major": 2,
       "version_minor": 0
      },
      "text/plain": [
       "Training epoch #71:   0%|          | 0/294 [00:00<?, ?it/s]"
      ]
     },
     "metadata": {},
     "output_type": "display_data"
    },
    {
     "name": "stdout",
     "output_type": "stream",
     "text": [
      "train_loss=0.0283 val_loss=0.0354\n"
     ]
    },
    {
     "data": {
      "application/vnd.jupyter.widget-view+json": {
       "model_id": "90110df4ddd74d16a29d1750c1beec3d",
       "version_major": 2,
       "version_minor": 0
      },
      "text/plain": [
       "Training epoch #72:   0%|          | 0/294 [00:00<?, ?it/s]"
      ]
     },
     "metadata": {},
     "output_type": "display_data"
    },
    {
     "name": "stdout",
     "output_type": "stream",
     "text": [
      "train_loss=0.0282 val_loss=0.0353\n"
     ]
    },
    {
     "data": {
      "application/vnd.jupyter.widget-view+json": {
       "model_id": "545cddc931bc4768b3a322d24fad8ac4",
       "version_major": 2,
       "version_minor": 0
      },
      "text/plain": [
       "Training epoch #73:   0%|          | 0/294 [00:00<?, ?it/s]"
      ]
     },
     "metadata": {},
     "output_type": "display_data"
    },
    {
     "name": "stdout",
     "output_type": "stream",
     "text": [
      "train_loss=0.0282 val_loss=0.0354\n"
     ]
    },
    {
     "data": {
      "application/vnd.jupyter.widget-view+json": {
       "model_id": "18a70b98aa334a08ac0d29291f32bfd4",
       "version_major": 2,
       "version_minor": 0
      },
      "text/plain": [
       "Training epoch #74:   0%|          | 0/294 [00:00<?, ?it/s]"
      ]
     },
     "metadata": {},
     "output_type": "display_data"
    },
    {
     "name": "stdout",
     "output_type": "stream",
     "text": [
      "train_loss=0.0282 val_loss=0.0353\n"
     ]
    },
    {
     "data": {
      "application/vnd.jupyter.widget-view+json": {
       "model_id": "a59f63c183814c9e9a6c86f286dd4aba",
       "version_major": 2,
       "version_minor": 0
      },
      "text/plain": [
       "Training epoch #75:   0%|          | 0/294 [00:00<?, ?it/s]"
      ]
     },
     "metadata": {},
     "output_type": "display_data"
    },
    {
     "name": "stdout",
     "output_type": "stream",
     "text": [
      "train_loss=0.0281 val_loss=0.0354\n"
     ]
    },
    {
     "data": {
      "application/vnd.jupyter.widget-view+json": {
       "model_id": "4c2b2f37dd43464ab66decafa4bcfe9a",
       "version_major": 2,
       "version_minor": 0
      },
      "text/plain": [
       "Training epoch #76:   0%|          | 0/294 [00:00<?, ?it/s]"
      ]
     },
     "metadata": {},
     "output_type": "display_data"
    },
    {
     "name": "stdout",
     "output_type": "stream",
     "text": [
      "train_loss=0.0281 val_loss=0.0354\n"
     ]
    },
    {
     "data": {
      "application/vnd.jupyter.widget-view+json": {
       "model_id": "403e630ca2884dc49b92621d9bfa5c74",
       "version_major": 2,
       "version_minor": 0
      },
      "text/plain": [
       "Training epoch #77:   0%|          | 0/294 [00:00<?, ?it/s]"
      ]
     },
     "metadata": {},
     "output_type": "display_data"
    },
    {
     "name": "stdout",
     "output_type": "stream",
     "text": [
      "train_loss=0.0280 val_loss=0.0355\n"
     ]
    },
    {
     "data": {
      "application/vnd.jupyter.widget-view+json": {
       "model_id": "38888ad745384375ab9456f4a44b9683",
       "version_major": 2,
       "version_minor": 0
      },
      "text/plain": [
       "Training epoch #78:   0%|          | 0/294 [00:00<?, ?it/s]"
      ]
     },
     "metadata": {},
     "output_type": "display_data"
    },
    {
     "name": "stdout",
     "output_type": "stream",
     "text": [
      "train_loss=0.0279 val_loss=0.0354\n"
     ]
    },
    {
     "data": {
      "application/vnd.jupyter.widget-view+json": {
       "model_id": "0710ed31fbbc4c4ab7160ea885066455",
       "version_major": 2,
       "version_minor": 0
      },
      "text/plain": [
       "Training epoch #79:   0%|          | 0/294 [00:00<?, ?it/s]"
      ]
     },
     "metadata": {},
     "output_type": "display_data"
    },
    {
     "name": "stdout",
     "output_type": "stream",
     "text": [
      "train_loss=0.0279 val_loss=0.0354\n"
     ]
    },
    {
     "data": {
      "application/vnd.jupyter.widget-view+json": {
       "model_id": "77c64cb168174cea9274d6a413ddb6bd",
       "version_major": 2,
       "version_minor": 0
      },
      "text/plain": [
       "Training epoch #80:   0%|          | 0/294 [00:00<?, ?it/s]"
      ]
     },
     "metadata": {},
     "output_type": "display_data"
    },
    {
     "name": "stdout",
     "output_type": "stream",
     "text": [
      "train_loss=0.0279 val_loss=0.0354\n"
     ]
    },
    {
     "data": {
      "application/vnd.jupyter.widget-view+json": {
       "model_id": "7ee051e585cf4013a39ac3bf6e724fdd",
       "version_major": 2,
       "version_minor": 0
      },
      "text/plain": [
       "Training epoch #81:   0%|          | 0/294 [00:00<?, ?it/s]"
      ]
     },
     "metadata": {},
     "output_type": "display_data"
    },
    {
     "name": "stdout",
     "output_type": "stream",
     "text": [
      "train_loss=0.0278 val_loss=0.0354\n"
     ]
    },
    {
     "data": {
      "application/vnd.jupyter.widget-view+json": {
       "model_id": "c5797d4b732b45b89195722d93fa739b",
       "version_major": 2,
       "version_minor": 0
      },
      "text/plain": [
       "Training epoch #82:   0%|          | 0/294 [00:00<?, ?it/s]"
      ]
     },
     "metadata": {},
     "output_type": "display_data"
    },
    {
     "name": "stdout",
     "output_type": "stream",
     "text": [
      "train_loss=0.0278 val_loss=0.0354\n"
     ]
    },
    {
     "data": {
      "application/vnd.jupyter.widget-view+json": {
       "model_id": "bfdd2b8df55146d991a8309b8df12fb5",
       "version_major": 2,
       "version_minor": 0
      },
      "text/plain": [
       "Training epoch #83:   0%|          | 0/294 [00:00<?, ?it/s]"
      ]
     },
     "metadata": {},
     "output_type": "display_data"
    },
    {
     "name": "stdout",
     "output_type": "stream",
     "text": [
      "train_loss=0.0277 val_loss=0.0354\n"
     ]
    },
    {
     "data": {
      "application/vnd.jupyter.widget-view+json": {
       "model_id": "3b86eaa30b7843dc9fd79641856624ca",
       "version_major": 2,
       "version_minor": 0
      },
      "text/plain": [
       "Training epoch #84:   0%|          | 0/294 [00:00<?, ?it/s]"
      ]
     },
     "metadata": {},
     "output_type": "display_data"
    },
    {
     "name": "stdout",
     "output_type": "stream",
     "text": [
      "train_loss=0.0277 val_loss=0.0355\n"
     ]
    },
    {
     "data": {
      "application/vnd.jupyter.widget-view+json": {
       "model_id": "8b05b29a626f4068985746ee3d02691d",
       "version_major": 2,
       "version_minor": 0
      },
      "text/plain": [
       "Training epoch #85:   0%|          | 0/294 [00:00<?, ?it/s]"
      ]
     },
     "metadata": {},
     "output_type": "display_data"
    },
    {
     "name": "stdout",
     "output_type": "stream",
     "text": [
      "train_loss=0.0277 val_loss=0.0354\n"
     ]
    },
    {
     "data": {
      "application/vnd.jupyter.widget-view+json": {
       "model_id": "fdaeef616a1e48ff8dd8ed19a3d836bf",
       "version_major": 2,
       "version_minor": 0
      },
      "text/plain": [
       "Training epoch #86:   0%|          | 0/294 [00:00<?, ?it/s]"
      ]
     },
     "metadata": {},
     "output_type": "display_data"
    },
    {
     "name": "stdout",
     "output_type": "stream",
     "text": [
      "train_loss=0.0276 val_loss=0.0354\n"
     ]
    },
    {
     "data": {
      "application/vnd.jupyter.widget-view+json": {
       "model_id": "d44c8aa3057945338d63baee793ec0e7",
       "version_major": 2,
       "version_minor": 0
      },
      "text/plain": [
       "Training epoch #87:   0%|          | 0/294 [00:00<?, ?it/s]"
      ]
     },
     "metadata": {},
     "output_type": "display_data"
    },
    {
     "name": "stdout",
     "output_type": "stream",
     "text": [
      "train_loss=0.0275 val_loss=0.0355\n"
     ]
    },
    {
     "data": {
      "application/vnd.jupyter.widget-view+json": {
       "model_id": "243a97bd78f04343906bce06c19bd37c",
       "version_major": 2,
       "version_minor": 0
      },
      "text/plain": [
       "Training epoch #88:   0%|          | 0/294 [00:00<?, ?it/s]"
      ]
     },
     "metadata": {},
     "output_type": "display_data"
    },
    {
     "name": "stdout",
     "output_type": "stream",
     "text": [
      "train_loss=0.0275 val_loss=0.0354\n"
     ]
    },
    {
     "data": {
      "application/vnd.jupyter.widget-view+json": {
       "model_id": "724079b0589742e7b4b59502e92b31e1",
       "version_major": 2,
       "version_minor": 0
      },
      "text/plain": [
       "Training epoch #89:   0%|          | 0/294 [00:00<?, ?it/s]"
      ]
     },
     "metadata": {},
     "output_type": "display_data"
    },
    {
     "name": "stdout",
     "output_type": "stream",
     "text": [
      "train_loss=0.0274 val_loss=0.0354\n"
     ]
    },
    {
     "data": {
      "application/vnd.jupyter.widget-view+json": {
       "model_id": "c5290be59f09461a839c47eb54489f7a",
       "version_major": 2,
       "version_minor": 0
      },
      "text/plain": [
       "Training epoch #90:   0%|          | 0/294 [00:00<?, ?it/s]"
      ]
     },
     "metadata": {},
     "output_type": "display_data"
    },
    {
     "name": "stdout",
     "output_type": "stream",
     "text": [
      "train_loss=0.0274 val_loss=0.0356\n"
     ]
    },
    {
     "data": {
      "application/vnd.jupyter.widget-view+json": {
       "model_id": "2c6b3acbc93d43499abe3c5babb92fc1",
       "version_major": 2,
       "version_minor": 0
      },
      "text/plain": [
       "Training epoch #91:   0%|          | 0/294 [00:00<?, ?it/s]"
      ]
     },
     "metadata": {},
     "output_type": "display_data"
    },
    {
     "name": "stdout",
     "output_type": "stream",
     "text": [
      "train_loss=0.0274 val_loss=0.0354\n"
     ]
    },
    {
     "data": {
      "application/vnd.jupyter.widget-view+json": {
       "model_id": "89582f930bfe4a88897913679f676052",
       "version_major": 2,
       "version_minor": 0
      },
      "text/plain": [
       "Training epoch #92:   0%|          | 0/294 [00:00<?, ?it/s]"
      ]
     },
     "metadata": {},
     "output_type": "display_data"
    },
    {
     "name": "stdout",
     "output_type": "stream",
     "text": [
      "train_loss=0.0273 val_loss=0.0355\n"
     ]
    },
    {
     "data": {
      "application/vnd.jupyter.widget-view+json": {
       "model_id": "ea2441c0d15545bdab177d9a28709bcc",
       "version_major": 2,
       "version_minor": 0
      },
      "text/plain": [
       "Training epoch #93:   0%|          | 0/294 [00:00<?, ?it/s]"
      ]
     },
     "metadata": {},
     "output_type": "display_data"
    },
    {
     "name": "stdout",
     "output_type": "stream",
     "text": [
      "train_loss=0.0273 val_loss=0.0355\n"
     ]
    },
    {
     "data": {
      "application/vnd.jupyter.widget-view+json": {
       "model_id": "50ec1966eb974880b2011912f55ca642",
       "version_major": 2,
       "version_minor": 0
      },
      "text/plain": [
       "Training epoch #94:   0%|          | 0/294 [00:00<?, ?it/s]"
      ]
     },
     "metadata": {},
     "output_type": "display_data"
    },
    {
     "name": "stdout",
     "output_type": "stream",
     "text": [
      "train_loss=0.0273 val_loss=0.0355\n"
     ]
    },
    {
     "data": {
      "application/vnd.jupyter.widget-view+json": {
       "model_id": "8820805d8fcf4fe0bf73b0e392bf71ce",
       "version_major": 2,
       "version_minor": 0
      },
      "text/plain": [
       "Training epoch #95:   0%|          | 0/294 [00:00<?, ?it/s]"
      ]
     },
     "metadata": {},
     "output_type": "display_data"
    },
    {
     "name": "stdout",
     "output_type": "stream",
     "text": [
      "train_loss=0.0272 val_loss=0.0355\n"
     ]
    },
    {
     "data": {
      "application/vnd.jupyter.widget-view+json": {
       "model_id": "52238285337141cea741b849b9df7a08",
       "version_major": 2,
       "version_minor": 0
      },
      "text/plain": [
       "Training epoch #96:   0%|          | 0/294 [00:00<?, ?it/s]"
      ]
     },
     "metadata": {},
     "output_type": "display_data"
    },
    {
     "name": "stdout",
     "output_type": "stream",
     "text": [
      "train_loss=0.0272 val_loss=0.0355\n"
     ]
    },
    {
     "data": {
      "application/vnd.jupyter.widget-view+json": {
       "model_id": "5c667b9d071d46fe8e4964713f4c04b6",
       "version_major": 2,
       "version_minor": 0
      },
      "text/plain": [
       "Training epoch #97:   0%|          | 0/294 [00:00<?, ?it/s]"
      ]
     },
     "metadata": {},
     "output_type": "display_data"
    },
    {
     "name": "stdout",
     "output_type": "stream",
     "text": [
      "train_loss=0.0272 val_loss=0.0355\n"
     ]
    },
    {
     "data": {
      "application/vnd.jupyter.widget-view+json": {
       "model_id": "7a385663b9bd4d0a93a50155fa5e24ec",
       "version_major": 2,
       "version_minor": 0
      },
      "text/plain": [
       "Training epoch #98:   0%|          | 0/294 [00:00<?, ?it/s]"
      ]
     },
     "metadata": {},
     "output_type": "display_data"
    },
    {
     "name": "stdout",
     "output_type": "stream",
     "text": [
      "train_loss=0.0272 val_loss=0.0355\n"
     ]
    },
    {
     "data": {
      "application/vnd.jupyter.widget-view+json": {
       "model_id": "72cc60ff26534be89c7a17b41344858b",
       "version_major": 2,
       "version_minor": 0
      },
      "text/plain": [
       "Training epoch #99:   0%|          | 0/294 [00:00<?, ?it/s]"
      ]
     },
     "metadata": {},
     "output_type": "display_data"
    },
    {
     "name": "stdout",
     "output_type": "stream",
     "text": [
      "train_loss=0.0271 val_loss=0.0355\n"
     ]
    }
   ],
   "source": [
    "class BaselineTrainingProcedure:\n",
    "    def __init__(self, model: BaselineSSTDifferenceModel, device: str, lr: float = 1e-3) -> None:\n",
    "        self._model = model.to(device)\n",
    "        self._device = device\n",
    "\n",
    "        self._optimizer = torch.optim.Adam(self._model.parameters(), lr=lr)\n",
    "\n",
    "    def train(self, dataloader: DataLoader, epoch: int) -> float:\n",
    "        model = self._model.train()\n",
    "        device = self._device\n",
    "        optimizer = self._optimizer\n",
    "\n",
    "        total_loss = 0.\n",
    "        nb_batches = len(dataloader)\n",
    "        for X, y in tqdm(dataloader, total=nb_batches, desc=f'Training epoch #{epoch}'):\n",
    "            X, y = X.to(device), y.to(device)\n",
    "\n",
    "            y_pred = model(X)\n",
    "            loss = F.smooth_l1_loss(y_pred, y)\n",
    "\n",
    "            total_loss += float(loss.cpu().item())\n",
    "\n",
    "            optimizer.zero_grad()\n",
    "            loss.backward()\n",
    "            optimizer.step()\n",
    "\n",
    "        return total_loss /  nb_batches\n",
    "\n",
    "    @torch.no_grad()\n",
    "    def evaluate(self, dataloader) -> float:\n",
    "        model = self._model.eval()\n",
    "        device = self._device\n",
    "\n",
    "        total_loss = 0.\n",
    "        nb_batches = len(dataloader)\n",
    "        for X, y in dataloader:\n",
    "            X, y = X.to(device), y.to(device)\n",
    "\n",
    "            y_pred = model(X)\n",
    "            # loss = F.mse_loss(y_pred, y)\n",
    "            loss = F.smooth_l1_loss(y_pred, y)\n",
    "\n",
    "            total_loss += float(loss.cpu().item())\n",
    "\n",
    "        return total_loss / nb_batches\n",
    "\n",
    "\n",
    "# Obtain training device.\n",
    "device = 'cuda' if torch.cuda.is_available() else 'cpu'\n",
    "print(device)\n",
    "\n",
    "# Training model.\n",
    "model = BaselineSSTDifferenceModel(3)\n",
    "train_dataloader = DataLoader(train_ds, batch_size=256, shuffle=True, num_workers=4)\n",
    "val_dataloader = DataLoader(val_ds, batch_size=256, num_workers=4)\n",
    "\n",
    "training_procedure = BaselineTrainingProcedure(model, device)\n",
    "epochs = 1 if device == 'cpu' else 100\n",
    "for epoch in range(epochs):\n",
    "    train_loss = training_procedure.train(train_dataloader, epoch)\n",
    "    val_loss = training_procedure.evaluate(val_dataloader)\n",
    "\n",
    "    print(f'{train_loss=:.4f} {val_loss=:.4f}')"
   ]
  },
  {
   "cell_type": "markdown",
   "id": "b36c8eb4",
   "metadata": {},
   "source": [
    "### Results\n",
    "\n",
    "Here, we will display some prediction results."
   ]
  },
  {
   "cell_type": "code",
   "execution_count": 8,
   "id": "f25801dc",
   "metadata": {
    "lines_to_next_cell": 2
   },
   "outputs": [
    {
     "data": {
      "image/png": "[encoded data removed]",
      "text/plain": [
       "<Figure size 800x400 with 4 Axes>"
      ]
     },
     "metadata": {},
     "output_type": "display_data"
    },
    {
     "data": {
      "image/png": "[encoded data removed]",
      "text/plain": [
       "<Figure size 800x400 with 4 Axes>"
      ]
     },
     "metadata": {},
     "output_type": "display_data"
    },
    {
     "data": {
      "image/png": "[encoded data removed]",
      "text/plain": [
       "<Figure size 800x400 with 4 Axes>"
      ]
     },
     "metadata": {},
     "output_type": "display_data"
    },
    {
     "data": {
      "image/png": "[encoded data removed]",
      "text/plain": [
       "<Figure size 800x400 with 4 Axes>"
      ]
     },
     "metadata": {},
     "output_type": "display_data"
    }
   ],
   "source": [
    "test_idx = [100, 250, 233, 750]\n",
    "for idx in test_idx:\n",
    "    X, y = test_diff_ds[idx]\n",
    "    X = torch.tensor(X[None, ...]).to(device)\n",
    "    y_pred = model(X).detach().cpu()\n",
    "\n",
    "    fig, axes = plt.subplots(ncols=2, figsize=(8, 4))\n",
    "    ax = axes[0]\n",
    "    cs = ax.pcolormesh(y[0])\n",
    "    fig.colorbar(cs, ax=ax)\n",
    "    ax.set_title('Original SST Difference')\n",
    "\n",
    "    ax = axes[1]\n",
    "    cs = ax.pcolormesh(y_pred[0, 0])\n",
    "    fig.colorbar(cs, ax=ax)\n",
    "    ax.set_title('Predicted SST Difference')\n",
    "\n",
    "    fig.suptitle(f'test_diff_ds[{idx}]')\n",
    "    fig.tight_layout()"
   ]
  },
  {
   "cell_type": "markdown",
   "id": "9ae10e45",
   "metadata": {},
   "source": [
    "## Test MSE"
   ]
  },
  {
   "cell_type": "code",
   "execution_count": 9,
   "id": "753b05bb",
   "metadata": {},
   "outputs": [
    {
     "name": "stdout",
     "output_type": "stream",
     "text": [
      "Difference error: 0.3101\n",
      "Temperature error: 0.3101\n"
     ]
    }
   ],
   "source": [
    "model.eval()\n",
    "test_dataloader = DataLoader(test_ds, batch_size=256, num_workers=4)\n",
    "test_diff_dataloader = DataLoader(test_diff_ds, batch_size=256, num_workers=4)\n",
    "\n",
    "diff_total_err = 0.\n",
    "temp_total_err = 0.\n",
    "\n",
    "with torch.no_grad():\n",
    "    for (X_diff, y_diff), (X, y) in zip(test_diff_dataloader, test_dataloader):\n",
    "        y_diff_pred = model(X_diff.to(device)).detach().cpu()\n",
    "\n",
    "        # Calculate mse.\n",
    "        diff_total_err += float(F.mse_loss(y_diff_pred, y_diff).item())\n",
    "\n",
    "        # Convert to normal temperature.\n",
    "        y_pred = X[:, -1:] + y_diff_pred\n",
    "        temp_total_err += float(F.mse_loss(y_pred, y).item())\n",
    "\n",
    "print(f'Difference error: {(diff_total_err / len(test_dataloader)):.4f}')\n",
    "print(f'Temperature error: {(temp_total_err / len(test_dataloader)):.4f}')"
   ]
  }
 ],
 "metadata": {
  "author": "Quan Nguyen",
  "jupytext": {
   "formats": "py:light,ipynb",
   "notebook_metadata_filter": "title,author,date"
  },
  "kernelspec": {
   "display_name": "Python 3 (ipykernel)",
   "language": "python",
   "name": "python3"
  },
  "language_info": {
   "codemirror_mode": {
    "name": "ipython",
    "version": 3
   },
   "file_extension": ".py",
   "mimetype": "text/x-python",
   "name": "python",
   "nbconvert_exporter": "python",
   "pygments_lexer": "ipython3",
   "version": "3.10.8"
  },
  "title": "Baseline Future SST Difference Prediction using Fully Connected Networks"
 },
 "nbformat": 4,
 "nbformat_minor": 5
}
